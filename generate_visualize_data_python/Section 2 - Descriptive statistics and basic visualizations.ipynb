{
 "cells": [
  {
   "cell_type": "markdown",
   "id": "c673aa6b",
   "metadata": {},
   "source": [
    "### Mean, media, standard deviation, variance"
   ]
  },
  {
   "cell_type": "code",
   "execution_count": 1,
   "id": "52649373",
   "metadata": {},
   "outputs": [],
   "source": [
    "import numpy as np\n",
    "import matplotlib.pyplot as plt\n",
    "import scipy.stats as stats"
   ]
  },
  {
   "cell_type": "code",
   "execution_count": 2,
   "id": "6e292f6c",
   "metadata": {},
   "outputs": [
    {
     "name": "stdout",
     "output_type": "stream",
     "text": [
      "2.0 2.0\n"
     ]
    }
   ],
   "source": [
    "# mean\n",
    "\n",
    "vec = [1, 2, 3, 2]\n",
    "n = len(vec)\n",
    "\n",
    "mean_val1 = sum(vec) / n\n",
    "\n",
    "mean_val2 = np.mean(vec)\n",
    "\n",
    "print(mean_val1, mean_val2)"
   ]
  },
  {
   "cell_type": "code",
   "execution_count": 3,
   "id": "fdc20fcf",
   "metadata": {},
   "outputs": [
    {
     "name": "stdout",
     "output_type": "stream",
     "text": [
      "2.0\n"
     ]
    }
   ],
   "source": [
    "# median\n",
    "\n",
    "median_val = np.median(vec)\n",
    "\n",
    "print(median_val)"
   ]
  },
  {
   "cell_type": "code",
   "execution_count": 4,
   "id": "e5629e9d",
   "metadata": {},
   "outputs": [
    {
     "name": "stdout",
     "output_type": "stream",
     "text": [
      "0.816496580927726 0.816496580927726\n"
     ]
    }
   ],
   "source": [
    "# standard deviation\n",
    "\n",
    "# first, mean-center\n",
    "vec_C = vec - np.mean(vec)\n",
    "\n",
    "# then, sum of squared elements, divide by N-1, take square root\n",
    "std_val1 = np.sqrt(np.sum(vec_C**2) / (n-1))\n",
    "\n",
    "# or use the function\n",
    "std_val2 = np.std(vec, ddof=1) # ddf arg to provide unbiased estimate (n-1)\n",
    "\n",
    "print(std_val1, std_val2)"
   ]
  },
  {
   "cell_type": "code",
   "execution_count": 5,
   "id": "3c2344e2",
   "metadata": {},
   "outputs": [
    {
     "name": "stdout",
     "output_type": "stream",
     "text": [
      "0.6666666666666666 0.6666666666666666\n"
     ]
    }
   ],
   "source": [
    "# variance\n",
    "\n",
    "var_val1 = std_val1**2\n",
    "\n",
    "var_val2 = np.var(vec, ddof=1)\n",
    "\n",
    "print(var_val1, var_val2)"
   ]
  },
  {
   "cell_type": "markdown",
   "id": "616a9df9",
   "metadata": {},
   "source": [
    "### Histogram"
   ]
  },
  {
   "cell_type": "code",
   "execution_count": 6,
   "id": "7a4cd087",
   "metadata": {},
   "outputs": [
    {
     "data": {
      "image/png": "[encoded data removed]",
      "text/plain": [
       "<Figure size 432x288 with 1 Axes>"
      ]
     },
     "metadata": {
      "needs_background": "light"
     },
     "output_type": "display_data"
    }
   ],
   "source": [
    "data = np.random.randn(1000)\n",
    "nbins = 50\n",
    "\n",
    "plt.hist(data, nbins)\n",
    "plt.show()"
   ]
  },
  {
   "cell_type": "markdown",
   "id": "7b9ac202",
   "metadata": {},
   "source": [
    "### Interquartile range (IQR)"
   ]
  },
  {
   "cell_type": "code",
   "execution_count": 7,
   "id": "26c9b98f",
   "metadata": {},
   "outputs": [
    {
     "name": "stdout",
     "output_type": "stream",
     "text": [
      "1.3699836766755649 1.3690776968484826\n"
     ]
    }
   ],
   "source": [
    "n = 1000\n",
    "\n",
    "data = np.random.randn(n)\n",
    "\n",
    "# ranks-transform the data and scale to 1\n",
    "data_r = stats.rankdata(data)/n\n",
    "\n",
    "# find the values closest to 25% and 75% of the distribution\n",
    "q1 = np.argmin(np.abs(data_r-.25))\n",
    "q2 = np.argmin(np.abs(data_r-.75))\n",
    "\n",
    "# get the two values in the data\n",
    "iq_vals = [data[q1], data[q2]]\n",
    "\n",
    "# IQR is the difference between them\n",
    "iq_range1 = iq_vals[1] - iq_vals[0]\n",
    "\n",
    "# using implemented function\n",
    "iq_range2 = stats.iqr(data)\n",
    "\n",
    "print(iq_range1, iq_range2)"
   ]
  },
  {
   "cell_type": "markdown",
   "id": "572069b8",
   "metadata": {},
   "source": [
    "### Violin plot"
   ]
  },
  {
   "cell_type": "code",
   "execution_count": 8,
   "id": "73e52990",
   "metadata": {},
   "outputs": [
    {
     "data": {
      "image/png": "[encoded data removed]",
      "text/plain": [
       "<Figure size 432x288 with 1 Axes>"
      ]
     },
     "metadata": {
      "needs_background": "light"
     },
     "output_type": "display_data"
    }
   ],
   "source": [
    "# generate data\n",
    "m = 1    # mean\n",
    "s = .6   # standard deviation\n",
    "n = 2000 # number of data points\n",
    "data = np.exp( s*np.random.randn(n) + m)\n",
    "\n",
    "plt.violinplot(data)\n",
    "plt.xlim([0, 2])\n",
    "plt.show()"
   ]
  }
 ],
 "metadata": {
  "kernelspec": {
   "display_name": "ml_env",
   "language": "python",
   "name": "ml_env"
  },
  "language_info": {
   "codemirror_mode": {
    "name": "ipython",
    "version": 3
   },
   "file_extension": ".py",
   "mimetype": "text/x-python",
   "name": "python",
   "nbconvert_exporter": "python",
   "pygments_lexer": "ipython3",
   "version": "3.7.10"
  }
 },
 "nbformat": 4,
 "nbformat_minor": 5
}
