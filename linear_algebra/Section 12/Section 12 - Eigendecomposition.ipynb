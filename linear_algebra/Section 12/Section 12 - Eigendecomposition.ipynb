{
 "cells": [
  {
   "cell_type": "code",
   "execution_count": 1,
   "metadata": {},
   "outputs": [],
   "source": [
    "from sympy import *\n",
    "from mpl_toolkits.mplot3d import Axes3D\n",
    "import numpy as np\n",
    "import matplotlib.pyplot as plt"
   ]
  },
  {
   "cell_type": "markdown",
   "metadata": {},
   "source": [
    "\n",
    "---\n",
    "# VIDEO: Finding eigenvalues\n",
    "---\n"
   ]
  },
  {
   "cell_type": "code",
   "execution_count": 3,
   "metadata": {},
   "outputs": [
    {
     "name": "stdout",
     "output_type": "stream",
     "text": [
      "[-1.31662479  5.31662479]\n"
     ]
    },
    {
     "data": {
      "image/png": "[encoded data removed]",
      "text/plain": [
       "<Figure size 432x288 with 1 Axes>"
      ]
     },
     "metadata": {
      "needs_background": "light"
     },
     "output_type": "display_data"
    }
   ],
   "source": [
    "# matrix\n",
    "A = [[1, 5], [2, 3]]\n",
    "\n",
    "# extract the eigenvalues\n",
    "eigvals = np.linalg.eig(A)\n",
    "\n",
    "# note that the eigenvalues are in the first element of eigvals:\n",
    "print(eigvals[0])\n",
    "\n",
    "# specify two vectors\n",
    "v1 = np.array([1, 1])      # is an eigenvector!\n",
    "v2 = np.random.randn(2, 1) # unlikely to be an eigenvector\n",
    "v2 = v2/np.linalg.norm(v2) # unit length for convenience\n",
    "\n",
    "# compute Av\n",
    "Av1 = A@v1\n",
    "Av2 = A@v2\n",
    "\n",
    "\n",
    "# plot the vectors and Av\n",
    "plt.plot([0, v1[0]], [0, v1[1]], 'r')\n",
    "plt.plot([0, Av1[0]], [0, Av1[1]], 'r--')\n",
    "plt.plot([0, v2[0]], [0, v2[1]], 'k')\n",
    "plt.plot([0, Av2[0]], [0, Av2[1]], 'k--')\n",
    "\n",
    "plt.axis([-8, 8, -8, 8])\n",
    "plt.show()"
   ]
  },
  {
   "cell_type": "code",
   "execution_count": 4,
   "metadata": {},
   "outputs": [
    {
     "name": "stdout",
     "output_type": "stream",
     "text": [
      "[-3. -1.  3.]\n"
     ]
    }
   ],
   "source": [
    "# confirm eigenvalues for a 3x3 matrix\n",
    "\n",
    "# specify matrix\n",
    "A = [[-2, 2, -3],\n",
    "     [-4, 1, -6],\n",
    "     [-1, -2, 0]]\n",
    "\n",
    "# get eigenvalues\n",
    "evals = np.linalg.eig(A)\n",
    "print(evals[0])"
   ]
  },
  {
   "cell_type": "markdown",
   "metadata": {},
   "source": [
    "\n",
    "---\n",
    "# VIDEO: Finding eigenvectors\n",
    "---\n"
   ]
  },
  {
   "cell_type": "code",
   "execution_count": 5,
   "metadata": {},
   "outputs": [
    {
     "name": "stdout",
     "output_type": "stream",
     "text": [
      "[ 3. -1.]\n",
      "\n",
      "[[ 0.70710678 -0.70710678]\n",
      " [ 0.70710678  0.70710678]]\n"
     ]
    }
   ],
   "source": [
    "# matrix\n",
    "A = [[1, 2], [2, 1]]\n",
    "\n",
    "# eigenvectors (compare with code above)\n",
    "# note also the differences with MATLAB: different order, evals in vector\n",
    "evals, evecs = np.linalg.eig(A)\n",
    "print(evals)\n",
    "print()\n",
    "print(evecs)"
   ]
  },
  {
   "cell_type": "code",
   "execution_count": 6,
   "metadata": {},
   "outputs": [
    {
     "name": "stdout",
     "output_type": "stream",
     "text": [
      "0.9999999999999999 0.9999999999999999\n"
     ]
    },
    {
     "data": {
      "image/png": "[encoded data removed]",
      "text/plain": [
       "<Figure size 432x288 with 1 Axes>"
      ]
     },
     "metadata": {
      "needs_background": "light"
     },
     "output_type": "display_data"
    }
   ],
   "source": [
    "# compute the norm of each eigenvector\n",
    "mag_v1 = np.sqrt(np.sum(np.square(evecs[:, 0])))\n",
    "mag_v2 = np.sqrt(np.sum(np.square(evecs[:, 1])))\n",
    "print(mag_v1, mag_v2)\n",
    "\n",
    "# plot\n",
    "plt.plot([0, evecs[0, 0]], [0, evecs[1, 0]], 'r', label='v1')\n",
    "plt.plot([0, evecs[0, 1]], [0, evecs[1, 1]], 'k', label='v2')\n",
    "\n",
    "\n",
    "plt.axis([-1, 1, -1, 1])\n",
    "plt.legend()\n",
    "plt.show()"
   ]
  },
  {
   "cell_type": "markdown",
   "metadata": {},
   "source": [
    "\n",
    "---\n",
    "# VIDEO: Diagonalization\n",
    "---\n"
   ]
  },
  {
   "cell_type": "code",
   "execution_count": 7,
   "metadata": {},
   "outputs": [
    {
     "data": {
      "image/png": "[encoded data removed]",
      "text/plain": [
       "<Figure size 432x288 with 2 Axes>"
      ]
     },
     "metadata": {
      "needs_background": "light"
     },
     "output_type": "display_data"
    },
    {
     "name": "stdout",
     "output_type": "stream",
     "text": [
      "Reconstruction RMS: 2.2440244021103953e-13\n"
     ]
    }
   ],
   "source": [
    "## eigendecomposition of A\n",
    "\n",
    "# make a symmetric matrix\n",
    "A = np.round(10*np.random.randn(4, 4))\n",
    "A = A.T@A\n",
    "\n",
    "# eigendecomposition\n",
    "evals, evecs = np.linalg.eig(A)\n",
    "\n",
    "# test reconstruction\n",
    "Ap = evecs @ np.diag(evals) @ np.linalg.inv(evecs)\n",
    "\n",
    "\n",
    "# plot\n",
    "plt.subplot(121)\n",
    "plt.imshow(A)\n",
    "plt.axis('off')\n",
    "plt.title('A')\n",
    "\n",
    "plt.subplot(122)\n",
    "plt.imshow(Ap)\n",
    "plt.axis('off')\n",
    "plt.title('$V\\Lambda V^{-1}$')\n",
    "\n",
    "plt.show()\n",
    "\n",
    "# subtract the two (should be zero with rounding errors)\n",
    "recondiff = A-Ap\n",
    "\n",
    "# reconstruction error (note the numerical inaccuracies)\n",
    "rmsA = np.sqrt(np.mean(np.square(np.reshape(recondiff, (1, -1)))))\n",
    "\n",
    "print('Reconstruction RMS:', rmsA)"
   ]
  },
  {
   "cell_type": "code",
   "execution_count": 8,
   "metadata": {},
   "outputs": [
    {
     "data": {
      "image/png": "[encoded data removed]",
      "text/plain": [
       "<Figure size 432x288 with 4 Axes>"
      ]
     },
     "metadata": {
      "needs_background": "light"
     },
     "output_type": "display_data"
    }
   ],
   "source": [
    "## diagonalization in images\n",
    "\n",
    "# A matrix\n",
    "A = np.random.randn(10, 10)\n",
    "A = A.T@A\n",
    "\n",
    "# eigendecomposition\n",
    "D, V = np.linalg.eig(A)\n",
    "\n",
    "# show the results\n",
    "plt.subplot(141)\n",
    "plt.imshow(A)\n",
    "plt.title('A')\n",
    "plt.axis('off')\n",
    "\n",
    "plt.subplot(142)\n",
    "plt.imshow(V)\n",
    "plt.title('V')\n",
    "plt.axis('off')\n",
    "\n",
    "plt.subplot(143)\n",
    "plt.imshow(np.diag(D))\n",
    "plt.title('$\\Lambda$')\n",
    "plt.axis('off')\n",
    "\n",
    "plt.subplot(144)\n",
    "plt.imshow(np.linalg.inv(V))\n",
    "plt.title('$V^{-1}$')\n",
    "plt.axis('off')\n",
    "\n",
    "plt.show()"
   ]
  },
  {
   "cell_type": "markdown",
   "metadata": {},
   "source": [
    "\n",
    "---\n",
    "# VIDEO: Matrix powers via diagonalization\n",
    "---\n"
   ]
  },
  {
   "cell_type": "code",
   "execution_count": 9,
   "metadata": {},
   "outputs": [
    {
     "name": "stdout",
     "output_type": "stream",
     "text": [
      "[[0.82672497 0.81484168]\n",
      " [0.30976771 0.35427499]]\n",
      "\n",
      "[[0.82672497 0.81484168]\n",
      " [0.30976771 0.35427499]]\n"
     ]
    }
   ],
   "source": [
    "## matrix powers\n",
    "\n",
    "A = np.random.rand(2, 2)\n",
    "\n",
    "# compute matrix power directly\n",
    "print(np.linalg.matrix_power(A,3)) # A@A@A\n",
    "print()\n",
    "\n",
    "# and via eigendecomposition\n",
    "D, V = np.linalg.eig(A)\n",
    "D = np.diag(D)\n",
    "\n",
    "# reproduce via diagonalization\n",
    "print(V @ np.linalg.matrix_power(D, 3) @ np.linalg.inv(V))"
   ]
  },
  {
   "cell_type": "code",
   "execution_count": 10,
   "metadata": {},
   "outputs": [
    {
     "name": "stdout",
     "output_type": "stream",
     "text": [
      "[[-0.50870274 -0.75846813 -0.40736668]\n",
      " [-0.3903845   0.62493537 -0.67605897]\n",
      " [-0.76734703  0.18488341  0.61400054]]\n",
      "\n",
      "[[-0.50870274 -0.75846813 -0.40736668]\n",
      " [-0.3903845   0.62493537 -0.67605897]\n",
      " [-0.76734703  0.18488341  0.61400054]]\n"
     ]
    },
    {
     "data": {
      "image/png": "[encoded data removed]",
      "text/plain": [
       "<Figure size 432x288 with 2 Axes>"
      ]
     },
     "metadata": {
      "needs_background": "light"
     },
     "output_type": "display_data"
    }
   ],
   "source": [
    "## eigenvalues of A and A^3\n",
    "\n",
    "# create a symmetric matrix\n",
    "A = np.random.rand(3, 3)\n",
    "A = A@A.T\n",
    "\n",
    "D, V   = np.linalg.eig(A)\n",
    "D3, V3 = np.linalg.eig(A@A@A)\n",
    "\n",
    "print(V)\n",
    "print()\n",
    "print(V3)\n",
    "\n",
    "plt.subplot(221)\n",
    "plt.imshow(V)\n",
    "plt.axis('off')\n",
    "plt.title('evecs of A')\n",
    "\n",
    "plt.subplot(223)\n",
    "plt.imshow(V3)\n",
    "plt.axis('off')\n",
    "plt.title('evecs of A^3')\n",
    "\n",
    "plt.show()"
   ]
  },
  {
   "cell_type": "code",
   "execution_count": 11,
   "metadata": {},
   "outputs": [
    {
     "name": "stderr",
     "output_type": "stream",
     "text": [
      "/home/yu/.pyenv/versions/3.7.10/envs/ml_env/lib/python3.7/site-packages/ipykernel_launcher.py:4: MatplotlibDeprecationWarning: Calling gca() with keyword arguments was deprecated in Matplotlib 3.4. Starting two minor releases later, gca() will take no keyword arguments. The gca() function should only be used to get the current axes, or if no axes exist, create new axes with default keyword arguments. To create a new axes with non-default arguments, use plt.axes() or plt.subplot().\n",
      "  after removing the cwd from sys.path.\n"
     ]
    },
    {
     "data": {
      "image/png": "[encoded data removed]",
      "text/plain": [
       "<Figure size 432x288 with 1 Axes>"
      ]
     },
     "metadata": {
      "needs_background": "light"
     },
     "output_type": "display_data"
    },
    {
     "data": {
      "image/png": "[encoded data removed]",
      "text/plain": [
       "<Figure size 432x288 with 1 Axes>"
      ]
     },
     "metadata": {
      "needs_background": "light"
     },
     "output_type": "display_data"
    }
   ],
   "source": [
    "## plot the eigenvectors and eigenvalues\n",
    "\n",
    "fig = plt.figure()\n",
    "ax = fig.gca(projection='3d')\n",
    "\n",
    "# plot eigenvectors of A\n",
    "ax.plot([0, V[0, 0]], [0, V[1, 0]], [0, V[2, 0]], 'r')\n",
    "ax.plot([0, V[0, 1]], [0, V[1, 1]], [0, V[2, 1]], 'k')\n",
    "ax.plot([0, V[0, 2]], [0, V[1, 2]], [0, V[2, 2]], 'b')\n",
    "\n",
    "# plot eigenvectors of A^3\n",
    "ax.plot([0, V3[0, 0]], [0, V3[1, 0]], [0, V3[2, 0]], 'r--')\n",
    "ax.plot([0, V3[0, 1]], [0, V3[1, 1]], [0, V3[2, 1]], 'k--')\n",
    "ax.plot([0, V3[0, 2]], [0, V3[1, 2]], [0, V3[2, 2]], 'b--')\n",
    "\n",
    "plt.show()\n",
    "\n",
    "## show the eigenvalues\n",
    "plt.plot([1, 2, 3], D, 'bs-', label='A')\n",
    "plt.plot([1.1, 2.1, 3.1], D3, 'rs-', label='A^3')\n",
    "plt.title('Eigenvalues')\n",
    "plt.legend()\n",
    "plt.show()"
   ]
  },
  {
   "cell_type": "code",
   "execution_count": 12,
   "metadata": {},
   "outputs": [
    {
     "name": "stdout",
     "output_type": "stream",
     "text": [
      "[2.18447421 0.13769946 0.24931807]\n",
      "\n",
      "[1.04241527e+01 2.61093872e-03 1.54974861e-02]\n",
      "\n",
      "[1.04241527e+01 2.61093872e-03 1.54974861e-02]\n"
     ]
    }
   ],
   "source": [
    "print(D)\n",
    "print()\n",
    "print(D3)\n",
    "print()\n",
    "print(D**3)"
   ]
  },
  {
   "cell_type": "markdown",
   "metadata": {},
   "source": [
    "\n",
    "---\n",
    "# VIDEO: Eigenvectors of repeated eigenvalues\n",
    "---\n"
   ]
  },
  {
   "cell_type": "code",
   "execution_count": 13,
   "metadata": {},
   "outputs": [],
   "source": [
    "# this code is copy-pasted with some light editing from:\n",
    "# https://stackoverflow.com/questions/3461869/plot-a-plane-based-on-a-normal-vector-and-a-point-in-matlab-or-matplotlib\n",
    "\n",
    "from matplotlib.patches import Circle, PathPatch\n",
    "from matplotlib.transforms import Affine2D\n",
    "from mpl_toolkits.mplot3d import art3d\n",
    "\n",
    "def plot_vector(fig, orig, v, color='blue'):\n",
    "    ax = fig.gca(projection='3d')\n",
    "    orig = np.array(orig)\n",
    "    v=np.array(v)\n",
    "    ax.quiver(orig[0], orig[1], orig[2], v[0], v[1], v[2], color=color)\n",
    "    ax.set_xlim(0, 10)\n",
    "    ax.set_ylim(0, 10)\n",
    "    ax.set_zlim(0, 10)\n",
    "    ax = fig.gca(projection='3d')  \n",
    "    return fig\n",
    "\n",
    "def rotation_matrix(d):\n",
    "    sin_angle = np.linalg.norm(d)\n",
    "    if sin_angle == 0:return np.identity(3)\n",
    "    d /= sin_angle\n",
    "    eye = np.eye(3)\n",
    "    ddt = np.outer(d, d)\n",
    "    skew = np.array([[0, d[2], -d[1]],\n",
    "                     [-d[2], 0, d[0]],\n",
    "                     [d[1], -d[0], 0]],\n",
    "                    dtype=np.float64)\n",
    "\n",
    "    M = ddt + np.sqrt(1 - sin_angle**2) * (eye - ddt) + sin_angle * skew\n",
    "    return M\n",
    "\n",
    "def pathpatch_2d_to_3d(pathpatch, z, normal):\n",
    "    # Translate strings to normal vectors\n",
    "    if type(normal) is str:\n",
    "        index = \"xyz\".index(normal)\n",
    "        normal = np.roll((1.0, 0, 0), index)\n",
    "\n",
    "    # Make sure the vector is normalised\n",
    "    normal /= np.linalg.norm(normal)\n",
    "    # Get the path and the associated transform\n",
    "    path = pathpatch.get_path()\n",
    "    trans = pathpatch.get_patch_transform()\n",
    "\n",
    "    # Apply the transform\n",
    "    path = trans.transform_path(path)\n",
    "\n",
    "    # Change the class\n",
    "    pathpatch.__class__ = art3d.PathPatch3D\n",
    "    # Copy the codes\n",
    "    pathpatch._code3d = path.codes\n",
    "    # Get the face color\n",
    "    pathpatch._facecolor3d = pathpatch.get_facecolor\n",
    "\n",
    "    # Get the vertices in 2D\n",
    "    verts = path.vertices\n",
    "\n",
    "    # Obtain the rotation vector\n",
    "    d = np.cross(normal, (0, 0, 1))\n",
    "    # Get the rotation matrix\n",
    "    M = rotation_matrix(d)\n",
    "\n",
    "    pathpatch._segment3d = np.array([np.dot(M, (x, y, 0)) + (0, 0, z) for x, y in verts])\n",
    "\n",
    "def pathpatch_translate(pathpatch, delta):\n",
    "    pathpatch._segment3d += delta\n",
    "\n",
    "def plot_plane(ax, point, normal, size=10, color='g'):    \n",
    "    p = Circle((0, 0), size, facecolor = color, alpha = .8)\n",
    "    ax.add_patch(p)\n",
    "    pathpatch_2d_to_3d(p, z=0, normal=normal)\n",
    "    pathpatch_translate(p, (point[0], point[1], point[2]))\n",
    "\n",
    "\n",
    "o = np.array([5, 5, 5])\n",
    "v = np.array([3, 3, 3])\n",
    "n = [0.5, 0.5, 0.5]\n",
    "\n",
    "from mpl_toolkits.mplot3d import Axes3D"
   ]
  },
  {
   "cell_type": "code",
   "execution_count": 14,
   "metadata": {},
   "outputs": [
    {
     "name": "stderr",
     "output_type": "stream",
     "text": [
      "/home/yu/.pyenv/versions/3.7.10/envs/ml_env/lib/python3.7/site-packages/ipykernel_launcher.py:20: MatplotlibDeprecationWarning: Calling gca() with keyword arguments was deprecated in Matplotlib 3.4. Starting two minor releases later, gca() will take no keyword arguments. The gca() function should only be used to get the current axes, or if no axes exist, create new axes with default keyword arguments. To create a new axes with non-default arguments, use plt.axes() or plt.subplot().\n"
     ]
    },
    {
     "data": {
      "image/png": "[encoded data removed]",
      "text/plain": [
       "<Figure size 432x288 with 1 Axes>"
      ]
     },
     "metadata": {
      "needs_background": "light"
     },
     "output_type": "display_data"
    }
   ],
   "source": [
    "### Note about this cell: you need first to run the following cell,\n",
    "#   then come back and run this one!\n",
    "\n",
    "# a matrix\n",
    "A = [[ 5, -1, 0],\n",
    "     [-1, 5, 0],\n",
    "     [1/3, -1/3, 4]]\n",
    "\n",
    "# its eigendecomposition\n",
    "D, V = np.linalg.eig(A)\n",
    "\n",
    "# sort eigenvalues\n",
    "i = np.argsort(D)\n",
    "D = D[i]\n",
    "V = V[:, i]\n",
    "\n",
    "\n",
    "## plot eigenvectors\n",
    "fig = plt.figure()\n",
    "ax = fig.gca(projection='3d')\n",
    "\n",
    "# plot eigenvectors of A\n",
    "ax.plot([0, V[0, 0]], [0, V[1, 0]], [0, V[2, 0]], 'r', label='v_1 ($\\lambda$=%g)' % D[0])\n",
    "ax.plot([0, V[0, 1]], [0, V[1, 1]], [0, V[2, 1]], 'k', label='v_2 ($\\lambda$=%g)' % D[1])\n",
    "ax.plot([0, V[0, 2]], [0, V[1, 2]], [0, V[2, 2]], 'b', label='v_3 ($\\lambda$=%g)' % D[2])\n",
    "plt.legend()\n",
    "\n",
    "# plot subspace spanned by same-eigenvalued eigenvectors\n",
    "plot_plane(ax, V[:, 0], V[:, 1], size=3)\n",
    "ax.set_xlim3d(-1, 1)\n",
    "ax.set_ylim3d(-1, 1)\n",
    "ax.set_zlim3d(-1, 1)\n",
    "\n",
    "plt.show()"
   ]
  },
  {
   "cell_type": "markdown",
   "metadata": {},
   "source": [
    "\n",
    "---\n",
    "# Eigendecomposition of symmetric matrices\n",
    "---\n"
   ]
  },
  {
   "cell_type": "code",
   "execution_count": 15,
   "metadata": {},
   "outputs": [
    {
     "name": "stdout",
     "output_type": "stream",
     "text": [
      "[[ 0.46693635 -0.20047814  0.30212509  0.27389401 -0.38221293 -0.25858523\n",
      "   0.21651262 -0.2692194  -0.07045784  0.04375461 -0.38475835 -0.16718284\n",
      "   0.22961926 -0.08705599]\n",
      " [ 0.0472807  -0.20041554 -0.1338125  -0.06039306 -0.2708821  -0.19215286\n",
      "   0.27246311  0.0744144   0.23435068 -0.3497412   0.36497038  0.58868816\n",
      "   0.28291079 -0.09453452]\n",
      " [ 0.23348167  0.15606745  0.17112269  0.01510311  0.54275987 -0.36971184\n",
      "  -0.03589349  0.16317085 -0.30414157 -0.0232174  -0.06691331  0.27667437\n",
      "   0.28940038  0.41786382]\n",
      " [ 0.17373156 -0.57167625  0.17185726  0.17453541  0.25364831 -0.08030434\n",
      "  -0.13811125  0.12079532  0.18940959  0.52619315  0.26908448  0.14295301\n",
      "  -0.22622303 -0.14757882]\n",
      " [ 0.06181405 -0.2965987  -0.00168049  0.11540652  0.40589834  0.36476904\n",
      "   0.21062169 -0.23258132 -0.1176493  -0.29849359  0.33213561 -0.38126357\n",
      "   0.3668835  -0.0734983 ]\n",
      " [-0.26478086 -0.24186524  0.38988051 -0.12225656 -0.12377216 -0.42361144\n",
      "  -0.38521766 -0.1297995   0.00290951 -0.40583476  0.22394674 -0.25381468\n",
      "  -0.17161017  0.18893827]\n",
      " [-0.0739025   0.17147063 -0.34953561 -0.04944984  0.2595883  -0.55782564\n",
      "   0.28414125 -0.27944556  0.43340667  0.15154568  0.05347037 -0.29631831\n",
      "  -0.00981804 -0.03958242]\n",
      " [-0.12368054 -0.41566253 -0.25608071 -0.19231391 -0.04138662  0.01896009\n",
      "  -0.18162675  0.41642114  0.27736913  0.01701455 -0.39233408 -0.21402182\n",
      "   0.41895307  0.22005104]\n",
      " [ 0.38543062  0.3629206  -0.09777456  0.39935587 -0.11492962 -0.03310707\n",
      "  -0.41072851  0.33920959  0.23254398 -0.1123474   0.31160563 -0.24217252\n",
      "   0.14290727 -0.09876348]\n",
      " [ 0.02371084 -0.09338233 -0.02749115  0.31896115  0.36096702  0.02758077\n",
      "  -0.06904496  0.00885817  0.26410256 -0.51317991 -0.46583624  0.19252864\n",
      "  -0.32213541 -0.24774242]\n",
      " [-0.10443533 -0.00660314 -0.19102293  0.26305608 -0.04013048  0.15394283\n",
      "  -0.45097864 -0.62471533  0.15950307  0.13405837 -0.03416538  0.28413262\n",
      "   0.22833601  0.2948775 ]\n",
      " [ 0.12873707  0.22599255  0.46830452 -0.51359204  0.15765619  0.13985823\n",
      "  -0.18208346 -0.13966137  0.38645241  0.04978489 -0.07460809  0.07743017\n",
      "   0.27174013 -0.33906376]\n",
      " [ 0.62700224 -0.15514633 -0.39419648 -0.47724367 -0.00545875  0.02583018\n",
      "  -0.18948633 -0.17793963 -0.1222849  -0.14965701  0.01951611 -0.02336945\n",
      "  -0.29087472  0.09216792]\n",
      " [ 0.17498442  0.06485374  0.26594974  0.03147463 -0.04936342  0.28854912\n",
      "   0.32578844  0.04183471  0.46855673 -0.04969435  0.058365   -0.0461571\n",
      "  -0.2405277   0.64378838]]\n",
      "[1. 1. 1. 1. 1. 1. 1. 1. 1. 1. 1. 1. 1. 1.]\n"
     ]
    }
   ],
   "source": [
    "# create a random matrix\n",
    "A = np.random.randn(14, 14)\n",
    "\n",
    "# make it symmetric (additive method)\n",
    "A = A+A.T\n",
    "\n",
    "# diagonalize it\n",
    "evals, evecs = np.linalg.eig(A)\n",
    "print(evecs)\n",
    "# magnitudes of each vector\n",
    "print(np.sqrt( sum(evecs**2)))"
   ]
  },
  {
   "cell_type": "code",
   "execution_count": 16,
   "metadata": {
    "scrolled": false
   },
   "outputs": [
    {
     "data": {
      "image/png": "[encoded data removed]",
      "text/plain": [
       "<Figure size 432x288 with 1 Axes>"
      ]
     },
     "metadata": {
      "needs_background": "light"
     },
     "output_type": "display_data"
    },
    {
     "data": {
      "image/png": "[encoded data removed]",
      "text/plain": [
       "<Figure size 432x288 with 1 Axes>"
      ]
     },
     "metadata": {
      "needs_background": "light"
     },
     "output_type": "display_data"
    },
    {
     "data": {
      "image/png": "[encoded data removed]",
      "text/plain": [
       "<Figure size 432x288 with 1 Axes>"
      ]
     },
     "metadata": {
      "needs_background": "light"
     },
     "output_type": "display_data"
    }
   ],
   "source": [
    "# and make plots\n",
    "plt.imshow(A)\n",
    "plt.axis('off')\n",
    "plt.title('A')\n",
    "plt.show()\n",
    "\n",
    "plt.imshow(evecs)\n",
    "plt.axis('off')\n",
    "plt.title('Eigenvectors')\n",
    "plt.show()\n",
    "\n",
    "plt.imshow(evecs@evecs.T)\n",
    "plt.axis('off')\n",
    "plt.title('VV^T')\n",
    "plt.show()"
   ]
  },
  {
   "cell_type": "markdown",
   "metadata": {},
   "source": [
    "\n",
    "---\n",
    "# VIDEO: Generalized eigendecomposition\n",
    "---\n"
   ]
  },
  {
   "cell_type": "code",
   "execution_count": 17,
   "metadata": {},
   "outputs": [
    {
     "data": {
      "image/png": "[encoded data removed]",
      "text/plain": [
       "<Figure size 432x288 with 1 Axes>"
      ]
     },
     "metadata": {
      "needs_background": "light"
     },
     "output_type": "display_data"
    },
    {
     "data": {
      "image/png": "[encoded data removed]",
      "text/plain": [
       "<Figure size 432x288 with 1 Axes>"
      ]
     },
     "metadata": {
      "needs_background": "light"
     },
     "output_type": "display_data"
    },
    {
     "data": {
      "image/png": "[encoded data removed]",
      "text/plain": [
       "<Figure size 432x288 with 1 Axes>"
      ]
     },
     "metadata": {
      "needs_background": "light"
     },
     "output_type": "display_data"
    }
   ],
   "source": [
    "import scipy.linalg # kindof annoying, but numpy doesn't do GED\n",
    "\n",
    "# define matrices\n",
    "A = np.array([[3, 2], [1, 3]])\n",
    "B = np.array([[1, 1], [4, 1]])\n",
    "\n",
    "# GED\n",
    "eigvals, eigvecs = scipy.linalg.eig(A, B)\n",
    "\n",
    "\n",
    "# matrix-vector multiplication\n",
    "Av = A@eigvecs[:, 1]\n",
    "Bv = B@eigvecs[:, 1]\n",
    "BinvAv = np.linalg.inv(B)@A@eigvecs[:, 1]\n",
    "\n",
    "\n",
    "plt.plot([0, eigvecs[0, 1]], [0, eigvecs[1, 1]], 'k',linewidth=4, label='$v_2$')\n",
    "plt.plot([0, Av[0]], [0, Av[1]], 'r--', linewidth=2, label='$Av_2$')\n",
    "plt.xlim([-3, 3]), plt.ylim([-3, 3])\n",
    "plt.plot([-3, 3], [0, 0], 'k:')\n",
    "plt.plot([0, 0], [-3, 3], 'k:')\n",
    "plt.legend()\n",
    "plt.title('Av')\n",
    "plt.show()\n",
    "\n",
    "plt.plot([0, eigvecs[0, 1]], [0, eigvecs[1, 1]], 'k', linewidth=4, label='$v_2$')\n",
    "plt.plot([0, Bv[0]], [0, Bv[1]], 'r--', linewidth=2, label='$Bv_2$')\n",
    "plt.xlim([-3, 3]), plt.ylim([-3, 3])\n",
    "plt.plot([-3, 3], [0, 0], 'k:')\n",
    "plt.plot([0, 0], [-3, 3], 'k:')\n",
    "plt.legend()\n",
    "plt.title('Bv')\n",
    "plt.show()\n",
    "\n",
    "\n",
    "plt.plot([0, eigvecs[0, 1]], [0, eigvecs[1, 1]], 'k', linewidth=4, label='$v_2$')\n",
    "plt.plot([0, BinvAv[0]], [0, BinvAv[1]], 'r--', linewidth=2, label='B$^{-1}$Av_2')\n",
    "plt.xlim([-3, 3]), plt.ylim([-3, 3])\n",
    "plt.plot([-3, 3], [0, 0], 'k:')\n",
    "plt.plot([0, 0], [-3, 3], 'k:')\n",
    "plt.legend()\n",
    "plt.title('B$^{-1}$Av')\n",
    "plt.show()"
   ]
  }
 ],
 "metadata": {
  "kernelspec": {
   "display_name": "ml_env",
   "language": "python",
   "name": "ml_env"
  },
  "language_info": {
   "codemirror_mode": {
    "name": "ipython",
    "version": 3
   },
   "file_extension": ".py",
   "mimetype": "text/x-python",
   "name": "python",
   "nbconvert_exporter": "python",
   "pygments_lexer": "ipython3",
   "version": "3.7.10"
  }
 },
 "nbformat": 4,
 "nbformat_minor": 2
}
