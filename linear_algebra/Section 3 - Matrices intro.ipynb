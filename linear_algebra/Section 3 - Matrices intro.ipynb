{
 "cells": [
  {
   "cell_type": "code",
   "execution_count": 1,
   "metadata": {},
   "outputs": [],
   "source": [
    "import numpy as np"
   ]
  },
  {
   "cell_type": "markdown",
   "metadata": {},
   "source": [
    "\n",
    "---\n",
    "# VIDEO: A zoo of matrices\n",
    "---\n"
   ]
  },
  {
   "cell_type": "code",
   "execution_count": 2,
   "metadata": {},
   "outputs": [
    {
     "name": "stdout",
     "output_type": "stream",
     "text": [
      "[[ 1.551711    1.09355148 -1.39935686  0.08479648 -0.56924962]\n",
      " [ 0.67914062  1.48443618 -0.36129496 -3.49189179  0.93620437]\n",
      " [ 0.98824665  1.14597453 -1.93401894 -0.32229466  0.71810412]\n",
      " [-1.26281856  0.64087275  1.37853682 -0.61149779  3.36755471]\n",
      " [ 0.25955285 -0.42450796  1.94708921 -1.73140487 -0.64804356]]\n",
      " \n",
      "[[-0.85642935 -1.47372496]\n",
      " [-0.66382683 -1.02487681]\n",
      " [-1.17557458  0.43429762]\n",
      " [ 1.20878469  0.18249544]\n",
      " [-0.05238678 -0.27221082]]\n",
      "[[1. 0. 0.]\n",
      " [0. 1. 0.]\n",
      " [0. 0. 1.]]\n",
      " \n",
      "[[0. 0. 0. 0.]\n",
      " [0. 0. 0. 0.]\n",
      " [0. 0. 0. 0.]\n",
      " [0. 0. 0. 0.]]\n",
      " \n",
      "[[1 0 0 0 0]\n",
      " [0 2 0 0 0]\n",
      " [0 0 3 0 0]\n",
      " [0 0 0 5 0]\n",
      " [0 0 0 0 2]]\n",
      " \n",
      "[[-0.40075063  0.          0.          0.          0.        ]\n",
      " [-0.79059177  0.84656176  0.          0.          0.        ]\n",
      " [-0.49735065 -1.49395417  0.87268081  0.          0.        ]\n",
      " [-0.91904872 -1.33959583 -0.27400759 -0.09310235  0.        ]\n",
      " [ 1.13620533  0.84029043 -0.43351214  0.39166118  2.03597942]]\n",
      " \n",
      "[[-4.95114992e-01  4.67585664e-01  1.36695101e+00  1.56348726e+00\n",
      "  -2.54988649e-01 -2.10837928e+00]\n",
      " [ 8.57083552e-01  1.33062955e-01 -1.98476034e-01  1.10540415e+00\n",
      "  -1.91323312e-04  1.22576768e+00]\n",
      " [ 3.81951744e-01 -6.58995059e-01  5.47255510e-01  6.44080689e-01\n",
      "  -8.48275661e-01 -1.14216371e+00]]\n"
     ]
    }
   ],
   "source": [
    "# square vs. rectangular\n",
    "S = np.random.randn(5, 5)\n",
    "R = np.random.randn(5, 2) # 5 rows, 2 columns\n",
    "print(S), print(' ')\n",
    "print(R)\n",
    "\n",
    "# identity\n",
    "I = np.eye(3)\n",
    "print(I), print(' ')\n",
    "\n",
    "# zeros\n",
    "Z = np.zeros((4, 4))\n",
    "print(Z), print(' ')\n",
    "\n",
    "# diagonal\n",
    "D = np.diag([1, 2, 3, 5, 2])\n",
    "print(D), print(' ')\n",
    "\n",
    "# create triangular matrix from full matrices\n",
    "S = np.random.randn(5, 5)\n",
    "U = np.triu(S)\n",
    "L = np.tril(S)\n",
    "print(L), print(' ')\n",
    "\n",
    "# concatenate matrices (sizes must match!)\n",
    "A = np.random.randn(3, 2)\n",
    "B = np.random.randn(3, 4)\n",
    "C = np.concatenate((A, B), axis=1)\n",
    "print(C)"
   ]
  },
  {
   "cell_type": "markdown",
   "metadata": {},
   "source": [
    "\n",
    "---\n",
    "# VIDEO: Matrix addition and subtraction\n",
    "---\n"
   ]
  },
  {
   "cell_type": "code",
   "execution_count": 3,
   "metadata": {},
   "outputs": [
    {
     "name": "stdout",
     "output_type": "stream",
     "text": [
      "[[ 0.61526228  0.40285913  1.66628079  0.98378391 -0.73382504]\n",
      " [ 1.39641388  1.27833311 -1.31338584  0.92932628 -2.20679474]\n",
      " [-1.03048675 -0.65566207  0.83266321 -1.07297465 -0.28371196]\n",
      " [-2.12449468 -0.8589108   1.83451679 -1.55149064  0.02178024]\n",
      " [ 1.90381232 -0.66985792  1.64224008 -0.39883866 -0.137818  ]]\n",
      " \n",
      "[[ 0.64526228  0.40285913  1.66628079  0.98378391 -0.73382504]\n",
      " [ 1.39641388  1.30833311 -1.31338584  0.92932628 -2.20679474]\n",
      " [-1.03048675 -0.65566207  0.86266321 -1.07297465 -0.28371196]\n",
      " [-2.12449468 -0.8589108   1.83451679 -1.52149064  0.02178024]\n",
      " [ 1.90381232 -0.66985792  1.64224008 -0.39883866 -0.107818  ]]\n"
     ]
    }
   ],
   "source": [
    "# create random matrices\n",
    "A = np.random.randn(5, 4)\n",
    "B = np.random.randn(5, 3)\n",
    "C = np.random.randn(5, 4)\n",
    "\n",
    "A+C\n",
    "\n",
    "# \"shifting\" a matrix\n",
    "l = .03 # lambda\n",
    "N = 5  # size of square matrix\n",
    "D = np.random.randn(N, N) # can only shift a square matrix\n",
    "\n",
    "Ds = D + l*np.eye(N)\n",
    "\n",
    "print(D)\n",
    "print(' ')\n",
    "print(Ds)"
   ]
  },
  {
   "cell_type": "markdown",
   "metadata": {},
   "source": [
    "\n",
    "---\n",
    "# VIDEO: Matrix-scalar multiplication\n",
    "---\n"
   ]
  },
  {
   "cell_type": "code",
   "execution_count": 4,
   "metadata": {},
   "outputs": [
    {
     "name": "stdout",
     "output_type": "stream",
     "text": [
      "[[ 2  4]\n",
      " [ 4 10]]\n",
      "[[ 2  4]\n",
      " [ 4 10]]\n"
     ]
    }
   ],
   "source": [
    "# define matrix and scalar\n",
    "M = np.array([[1, 2], [2, 5]])\n",
    "s = 2\n",
    "\n",
    "# pre- and post-multiplication is the same:\n",
    "print(M*s)\n",
    "print(s*M)\n"
   ]
  },
  {
   "cell_type": "markdown",
   "metadata": {},
   "source": [
    "# VIDEO: Transpose"
   ]
  },
  {
   "cell_type": "code",
   "execution_count": 5,
   "metadata": {},
   "outputs": [
    {
     "name": "stdout",
     "output_type": "stream",
     "text": [
      "[[1 2 3]\n",
      " [2 3 4]]\n",
      "\n",
      "[[1 2]\n",
      " [2 3]\n",
      " [3 4]]\n",
      "\n",
      "[[1 2 3]\n",
      " [2 3 4]]\n",
      "\n",
      "[[1 2]\n",
      " [2 3]\n",
      " [3 4]]\n"
     ]
    }
   ],
   "source": [
    "M = np.array([[1, 2, 3],\n",
    "              [2, 3, 4]])\n",
    "\n",
    "print(M), print('')\n",
    "print(M.T), print('') # one transpose\n",
    "print(M.T.T), print('') # double-transpose returns the original matrix\n",
    "\n",
    "# can also use the function transpose\n",
    "print(np.transpose(M))"
   ]
  },
  {
   "cell_type": "code",
   "execution_count": 6,
   "metadata": {},
   "outputs": [
    {
     "name": "stdout",
     "output_type": "stream",
     "text": [
      "[[4.+1.j 3.+0.j 2.-4.j]]\n",
      "\n",
      "[[4.+1.j]\n",
      " [3.+0.j]\n",
      " [2.-4.j]]\n",
      "\n",
      "[[4.+1.j]\n",
      " [3.+0.j]\n",
      " [2.-4.j]]\n",
      "\n",
      "[[4.-1.j]\n",
      " [3.-0.j]\n",
      " [2.+4.j]]\n"
     ]
    }
   ],
   "source": [
    "# warning! be careful when using complex matrices\n",
    "C = np.array([[4+1j, 3, 2-4j]])\n",
    "\n",
    "print(C), print('')\n",
    "print(C.T), print('')\n",
    "print(np.transpose(C)), print('')\n",
    "\n",
    "# Note: In MATLAB, the transpose is the Hermitian transpose; \n",
    "#       in Python, you need to call the Hermitian explicitly by first converting from an array into a matrix\n",
    "print(np.matrix(C).H) # note the sign flips!\n"
   ]
  },
  {
   "cell_type": "markdown",
   "metadata": {},
   "source": [
    "\n",
    "---\n",
    "# VIDEO: Diagonal and trace\n",
    "---\n"
   ]
  },
  {
   "cell_type": "code",
   "execution_count": 7,
   "metadata": {},
   "outputs": [
    {
     "name": "stdout",
     "output_type": "stream",
     "text": [
      "[[-5. -9. 11. -3.]\n",
      " [ 7. -2. -3. -6.]\n",
      " [ 5. -4. -3.  1.]\n",
      " [-1. -1. -4.  3.]]\n",
      "\n",
      "[-5. -2. -3.  3.]\n",
      "[[-5.  0.  0.  0.]\n",
      " [ 0. -2.  0.  0.]\n",
      " [ 0.  0. -3.  0.]\n",
      " [ 0.  0.  0.  3.]]\n",
      "-7.0 -7.0\n"
     ]
    }
   ],
   "source": [
    "M = np.round(6*np.random.randn(4, 4))\n",
    "print(M), print()\n",
    "\n",
    "# notice the two ways of using the diag function\n",
    "d = np.diag(M) # input is matrix, output is vector\n",
    "D = np.diag(d) # input is vector, output is matrix\n",
    "print(d)\n",
    "print(D)\n",
    "\n",
    "# trace as sum of diagonal elements\n",
    "tr = np.trace(M)\n",
    "tr2 = sum(np.diag(M))\n",
    "print(tr,tr2)"
   ]
  },
  {
   "cell_type": "markdown",
   "metadata": {},
   "source": [
    "\n",
    "---\n",
    "# VIDEO: Broadcasting matrix arithmetic\n",
    "---\n"
   ]
  },
  {
   "cell_type": "code",
   "execution_count": 8,
   "metadata": {},
   "outputs": [
    {
     "name": "stdout",
     "output_type": "stream",
     "text": [
      "[[ 1  4  7 10]\n",
      " [ 2  5  8 11]\n",
      " [ 3  6  9 12]]\n",
      "\n",
      "[10, 20, 30, 40]\n",
      "\n",
      "[100, 200, 300]\n",
      "\n"
     ]
    }
   ],
   "source": [
    "# create a matrix\n",
    "A = np.reshape(np.arange(1, 13), (3, 4), 'F') # F=column, C=row\n",
    "\n",
    "# and two vectors\n",
    "r = [10, 20, 30, 40]\n",
    "c = [100, 200, 300]\n",
    "\n",
    "print(A)\n",
    "print()\n",
    "print(r)\n",
    "print()\n",
    "print(c)\n",
    "print()"
   ]
  },
  {
   "cell_type": "code",
   "execution_count": 9,
   "metadata": {},
   "outputs": [
    {
     "name": "stdout",
     "output_type": "stream",
     "text": [
      "[[11 24 37 50]\n",
      " [12 25 38 51]\n",
      " [13 26 39 52]]\n",
      " \n",
      "[[101 104 107 110]\n",
      " [202 205 208 211]\n",
      " [303 306 309 312]]\n"
     ]
    }
   ],
   "source": [
    "# broadcast on the rows\n",
    "print(A+r), print(' ')\n",
    "\n",
    "# broadcast on the columns\n",
    "# print(A+c)\n",
    "print(A+np.reshape(c,(len(c),1))) # only works for explicit column vectors\n"
   ]
  }
 ],
 "metadata": {
  "kernelspec": {
   "display_name": "ml_env",
   "language": "python",
   "name": "ml_env"
  },
  "language_info": {
   "codemirror_mode": {
    "name": "ipython",
    "version": 3
   },
   "file_extension": ".py",
   "mimetype": "text/x-python",
   "name": "python",
   "nbconvert_exporter": "python",
   "pygments_lexer": "ipython3",
   "version": "3.6.11"
  }
 },
 "nbformat": 4,
 "nbformat_minor": 2
}
