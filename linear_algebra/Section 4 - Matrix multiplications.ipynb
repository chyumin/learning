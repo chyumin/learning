{
 "cells": [
  {
   "cell_type": "code",
   "execution_count": 1,
   "metadata": {},
   "outputs": [],
   "source": [
    "import numpy as np\n",
    "import matplotlib.pyplot as plt\n",
    "import math"
   ]
  },
  {
   "cell_type": "markdown",
   "metadata": {},
   "source": [
    "\n",
    "---\n",
    "# VIDEO: Standard matrix multiplication, parts 1 & 2\n",
    "---\n"
   ]
  },
  {
   "cell_type": "code",
   "execution_count": 2,
   "metadata": {},
   "outputs": [
    {
     "data": {
      "text/plain": [
       "array([[ 1.08820995, -2.32635089,  2.51894069],\n",
       "       [ 1.39135096,  0.24764051, -0.32087077],\n",
       "       [ 0.1500274 , -0.58771722, -2.11729944],\n",
       "       [ 0.59430634, -0.33806305,  3.70225394]])"
      ]
     },
     "execution_count": 2,
     "metadata": {},
     "output_type": "execute_result"
    }
   ],
   "source": [
    "## rules for multiplication validity\n",
    "\n",
    "m = 4\n",
    "n = 3\n",
    "k = 6\n",
    "\n",
    "# make some matrices\n",
    "A = np.random.randn(m, n)\n",
    "B = np.random.randn(n, k)\n",
    "C = np.random.randn(m, k)\n",
    "\n",
    "# Test which multiplications are valid\n",
    "np.matmul(A, B)\n",
    "# np.matmul(A, A)\n",
    "np.matmul(A.T, C)\n",
    "np.matmul(B, B.T)\n",
    "np.matmul(np.matrix.transpose(B), B)\n",
    "# np.matmul(B, C)\n",
    "# np.matmul(C, B)\n",
    "# np.matmul(C.T, B)\n",
    "np.matmul(C, B.T)"
   ]
  },
  {
   "cell_type": "markdown",
   "metadata": {},
   "source": [
    "\n",
    "---\n",
    "# VIDEO: Order-of-operations on matrices\n",
    "---\n"
   ]
  },
  {
   "cell_type": "code",
   "execution_count": 3,
   "metadata": {},
   "outputs": [
    {
     "data": {
      "text/plain": [
       "array([[ 7.10542736e-15,  3.10862447e-15, -1.77635684e-15,\n",
       "        -7.10542736e-15, -1.42108547e-14,  0.00000000e+00,\n",
       "         0.00000000e+00],\n",
       "       [ 1.77635684e-15, -4.44089210e-16, -1.77635684e-15,\n",
       "         5.32907052e-15, -1.77635684e-15,  8.88178420e-16,\n",
       "         3.55271368e-15],\n",
       "       [-1.06581410e-14, -8.88178420e-16,  4.44089210e-16,\n",
       "        -7.10542736e-15, -7.10542736e-15,  0.00000000e+00,\n",
       "        -5.32907052e-15],\n",
       "       [-1.06581410e-14, -1.77635684e-15,  8.88178420e-16,\n",
       "         0.00000000e+00,  0.00000000e+00,  3.55271368e-15,\n",
       "         8.88178420e-16],\n",
       "       [ 0.00000000e+00,  4.99600361e-16,  8.88178420e-16,\n",
       "         0.00000000e+00, -7.10542736e-15,  0.00000000e+00,\n",
       "         0.00000000e+00],\n",
       "       [ 4.44089210e-15, -8.88178420e-16, -2.66453526e-15,\n",
       "         0.00000000e+00,  1.77635684e-15, -8.88178420e-16,\n",
       "        -1.77635684e-15],\n",
       "       [-3.55271368e-15, -2.22044605e-15, -1.77635684e-15,\n",
       "        -6.21724894e-15,  2.66453526e-15,  5.21804822e-15,\n",
       "         0.00000000e+00]])"
      ]
     },
     "execution_count": 3,
     "metadata": {},
     "output_type": "execute_result"
    }
   ],
   "source": [
    "n = 7\n",
    "L = np.random.randn(n, n)\n",
    "I = np.random.randn(n, n)\n",
    "V = np.random.randn(n, n)\n",
    "E = np.random.randn(n, n)\n",
    "\n",
    "# result of \"forward\" multiplication and then transpose\n",
    "res1 = np.matrix.transpose( L @ I @ V @ E )\n",
    "\n",
    "# result of \"flipped\" multiplication of transposed matrices\n",
    "res2 = E.T @ V.T @ I.T @ L.T\n",
    "\n",
    "# test equality by subtracting (ignore possible computer rounding errors)\n",
    "res1-res2"
   ]
  },
  {
   "cell_type": "markdown",
   "metadata": {},
   "source": [
    "\n",
    "---\n",
    "# VIDEO: Matrix-vector multiplication\n",
    "---\n"
   ]
  },
  {
   "cell_type": "code",
   "execution_count": 4,
   "metadata": {},
   "outputs": [
    {
     "name": "stdout",
     "output_type": "stream",
     "text": [
      "[-3. -4. -1.  0.]\n",
      "[-3. -4. -1.  0.]\n",
      "[-3. -4. -1.  0.]\n",
      "[-3. -4. -1.  0.]\n",
      "[-3. -4. -1.  0.]\n",
      "[ 12 -11  -3  10]\n",
      "[-9  8  8 -6]\n",
      "[-9  8  8 -6]\n",
      "[ 12 -11  -3  10]\n",
      "[-9  8  8 -6]\n"
     ]
    }
   ],
   "source": [
    "# number of elements\n",
    "m = 4\n",
    "\n",
    "# create matrices\n",
    "N = np.random.randint(-10, 11, (m, m))\n",
    "S = np.round(N.T*N / m**2) # scaled symmetric\n",
    "\n",
    "# and vector\n",
    "w = np.array([-1, 0, 1, 2])\n",
    "\n",
    "# with symmetric matrix\n",
    "print(S@w)     # 1\n",
    "print(S.T@w)   # 2\n",
    "print(w@S)     # 3\n",
    "print(w.T@S.T) # 4\n",
    "print(w.T@S)   # 5\n",
    "\n",
    "\n",
    "# with nonsymmetric matrix\n",
    "print(N@w)     # 1\n",
    "print(N.T@w)   # 2\n",
    "print(w@N)     # 3\n",
    "print(w.T@N.T) # 4\n",
    "print(w.T@N)   # 5\n"
   ]
  },
  {
   "cell_type": "markdown",
   "metadata": {},
   "source": [
    "---\n",
    "# VIDEO: 2D transformation matrices\n",
    "---"
   ]
  },
  {
   "cell_type": "code",
   "execution_count": 5,
   "metadata": {},
   "outputs": [
    {
     "data": {
      "image/png": "[encoded data removed]",
      "text/plain": [
       "<Figure size 432x288 with 1 Axes>"
      ]
     },
     "metadata": {
      "needs_background": "light"
     },
     "output_type": "display_data"
    }
   ],
   "source": [
    "# 2D input vector\n",
    "v = np.array([3, -2])\n",
    "\n",
    "# 2x2 transformation matrix\n",
    "A = np.array([[1, -1], [2, 1]])\n",
    "\n",
    "# output vector is Av (convert v to column)\n",
    "w = A@np.matrix.transpose(v)\n",
    "\n",
    "\n",
    "# plot them\n",
    "plt.plot([0, v[0]], [0, v[1]], label='v')\n",
    "plt.plot([0, w[0]], [0, w[1]], label='Av')\n",
    "\n",
    "plt.grid()\n",
    "plt.axis((-6, 6, -6, 6))\n",
    "plt.legend()\n",
    "plt.title('Rotation + stretching')\n",
    "plt.show()"
   ]
  },
  {
   "cell_type": "code",
   "execution_count": 6,
   "metadata": {},
   "outputs": [
    {
     "data": {
      "image/png": "[encoded data removed]",
      "text/plain": [
       "<Figure size 432x288 with 1 Axes>"
      ]
     },
     "metadata": {
      "needs_background": "light"
     },
     "output_type": "display_data"
    }
   ],
   "source": [
    "## pure rotation\n",
    "\n",
    "# 2D input vector\n",
    "v = np.array([3, -2])\n",
    "\n",
    "# 2x2 rotation matrix\n",
    "th = 5*np.pi/24\n",
    "A = np.array([[math.cos(th), -math.sin(th)], [math.sin(th), math.cos(th)]])\n",
    "\n",
    "# output vector is Av (convert v to column)\n",
    "w = A@np.matrix.transpose(v)\n",
    "\n",
    "\n",
    "# plot them\n",
    "plt.plot([0, v[0]], [0, v[1]], label='v')\n",
    "plt.plot([0, w[0]], [0, w[1]], label='Av')\n",
    "\n",
    "plt.grid()\n",
    "plt.axis((-4, 4, -4, 4))\n",
    "plt.legend()\n",
    "plt.title('Pure rotation')\n",
    "plt.show()"
   ]
  },
  {
   "cell_type": "markdown",
   "metadata": {},
   "source": [
    "\n",
    "---\n",
    "# VIDEO: Additive and multiplicative matrix identities\n",
    "---\n"
   ]
  },
  {
   "cell_type": "code",
   "execution_count": 7,
   "metadata": {},
   "outputs": [
    {
     "name": "stdout",
     "output_type": "stream",
     "text": [
      "True\n",
      "True\n",
      "False\n",
      "False\n",
      "True\n"
     ]
    }
   ],
   "source": [
    "# size of matrices\n",
    "n = 4\n",
    "\n",
    "# create the matrices\n",
    "A = np.round(10*np.random.randn(n,n))\n",
    "I = np.eye(n)\n",
    "Z = np.zeros((n, n))\n",
    "\n",
    "# test both identities\n",
    "print(np.array_equal(A@I, A))\n",
    "print(np.array_equal(A, A@I))\n",
    "print(np.array_equal(A, A+I))\n",
    "\n",
    "print(np.array_equal(A, A+I))\n",
    "print(np.array_equal(A+Z, A@I))"
   ]
  },
  {
   "cell_type": "markdown",
   "metadata": {},
   "source": [
    "\n",
    "---\n",
    "# VIDEO: Additive and multiplicative symmetric matrices\n",
    "---\n"
   ]
  },
  {
   "cell_type": "code",
   "execution_count": 8,
   "metadata": {},
   "outputs": [
    {
     "name": "stdout",
     "output_type": "stream",
     "text": [
      "[[0. 0. 0. 0. 0.]\n",
      " [0. 0. 0. 0. 0.]\n",
      " [0. 0. 0. 0. 0.]\n",
      " [0. 0. 0. 0. 0.]\n",
      " [0. 0. 0. 0. 0.]]\n"
     ]
    }
   ],
   "source": [
    "## the additive method\n",
    "\n",
    "# specify sizes\n",
    "m = 5\n",
    "n = 5\n",
    "\n",
    "# create matrices\n",
    "A = np.random.randn(m, n)\n",
    "S = (A + A.T)/2\n",
    "\n",
    "# A symmetric matrix minus its transpose should be all zeros\n",
    "print(S-S.T)"
   ]
  },
  {
   "cell_type": "code",
   "execution_count": 9,
   "metadata": {},
   "outputs": [
    {
     "name": "stdout",
     "output_type": "stream",
     "text": [
      "(3, 3)\n",
      "(5, 5)\n",
      "[[0. 0. 0.]\n",
      " [0. 0. 0.]\n",
      " [0. 0. 0.]]\n",
      "[[0. 0. 0. 0. 0.]\n",
      " [0. 0. 0. 0. 0.]\n",
      " [0. 0. 0. 0. 0.]\n",
      " [0. 0. 0. 0. 0.]\n",
      " [0. 0. 0. 0. 0.]]\n"
     ]
    }
   ],
   "source": [
    "## the multiplicative method\n",
    "\n",
    "# specify sizes\n",
    "m = 5\n",
    "n = 3\n",
    "\n",
    "# create matrices\n",
    "A   = np.random.randn(m, n)\n",
    "AtA = A.T@A\n",
    "AAt = A@A.T\n",
    "\n",
    "# first, show that they are square\n",
    "print(AtA.shape)\n",
    "print(AAt.shape)\n",
    "\n",
    "\n",
    "# next, show that they are symmetric\n",
    "print(AtA - AtA.T)\n",
    "print(AAt - AAt.T)"
   ]
  },
  {
   "cell_type": "markdown",
   "metadata": {},
   "source": [
    "\n",
    "---\n",
    "# VIDEO: Element-wise (Hadamard) multiplication\n",
    "---\n"
   ]
  },
  {
   "cell_type": "code",
   "execution_count": 10,
   "metadata": {},
   "outputs": [
    {
     "name": "stdout",
     "output_type": "stream",
     "text": [
      "[[ 3.74272614e-01  1.07316614e-01]\n",
      " [-4.49426150e-01 -1.93096184e-01]\n",
      " [ 2.89576475e-02  2.73702864e-01]\n",
      " [-6.33077975e-01  2.56772441e-01]\n",
      " [ 2.40471431e-02  2.87535941e-02]\n",
      " [ 8.08682597e-01  1.09412968e+00]\n",
      " [-2.68872221e-01  2.79661864e-01]\n",
      " [-9.13862854e-04 -3.94879626e-01]\n",
      " [-8.53035866e-01 -1.00602419e-02]\n",
      " [-2.23776007e-01 -6.40513836e-01]\n",
      " [-6.98648959e-01 -3.03634883e-01]\n",
      " [ 1.75120241e-01 -1.48715853e-01]\n",
      " [ 3.57460241e-02 -1.22155050e-01]]\n",
      "\n",
      "[[ 3.74272614e-01  1.07316614e-01]\n",
      " [-4.49426150e-01 -1.93096184e-01]\n",
      " [ 2.89576475e-02  2.73702864e-01]\n",
      " [-6.33077975e-01  2.56772441e-01]\n",
      " [ 2.40471431e-02  2.87535941e-02]\n",
      " [ 8.08682597e-01  1.09412968e+00]\n",
      " [-2.68872221e-01  2.79661864e-01]\n",
      " [-9.13862854e-04 -3.94879626e-01]\n",
      " [-8.53035866e-01 -1.00602419e-02]\n",
      " [-2.23776007e-01 -6.40513836e-01]\n",
      " [-6.98648959e-01 -3.03634883e-01]\n",
      " [ 1.75120241e-01 -1.48715853e-01]\n",
      " [ 3.57460241e-02 -1.22155050e-01]]\n",
      "\n",
      "[[0. 0.]\n",
      " [0. 0.]\n",
      " [0. 0.]\n",
      " [0. 0.]\n",
      " [0. 0.]\n",
      " [0. 0.]\n",
      " [0. 0.]\n",
      " [0. 0.]\n",
      " [0. 0.]\n",
      " [0. 0.]\n",
      " [0. 0.]\n",
      " [0. 0.]\n",
      " [0. 0.]]\n"
     ]
    }
   ],
   "source": [
    "# any matrix sizes\n",
    "m = 13\n",
    "n =  2\n",
    "\n",
    "# ...but the two matrices must be the same size\n",
    "A = np.random.randn(m, n)\n",
    "B = np.random.randn(m, n)\n",
    "\n",
    "# note the different syntax compared to @ for matrix multiplication\n",
    "C1 = np.multiply(A, B)\n",
    "C2 = A*B\n",
    "\n",
    "print(C1)\n",
    "print()\n",
    "print(C2)\n",
    "print()\n",
    "\n",
    "print(C1-C2)"
   ]
  },
  {
   "cell_type": "markdown",
   "metadata": {},
   "source": [
    "\n",
    "---\n",
    "# VIDEO: Multiplication of two symmetric matrices\n",
    "---\n"
   ]
  },
  {
   "cell_type": "code",
   "execution_count": 11,
   "metadata": {},
   "outputs": [
    {
     "name": "stdout",
     "output_type": "stream",
     "text": [
      "Matrix([[0, 0, 0, 0], [0, 0, 0, 0], [0, 0, 0, 0], [0, 0, 0, 0]])\n",
      "Matrix([[0, 0, 0, 0], [0, 0, 0, 0], [0, 0, 0, 0], [0, 0, 0, 0]])\n",
      "a\n",
      "a\n",
      "a\n",
      "a\n",
      "l\n",
      "l\n",
      "l\n",
      "l\n"
     ]
    }
   ],
   "source": [
    "# using the sympy library\n",
    "from sympy import *\n",
    "\n",
    "a, b, c, d, e, f, g, h, k, l, m, n, o, p, q, r, s, t, u = symbols('a b c d e f g h k l m n o p q r s t u', real=True)\n",
    "\n",
    "# symmetric and constant-diagonal matrices\n",
    "A = Matrix([[a, b, c, d],\n",
    "            [b, a, e, f],\n",
    "            [c, e, a, h],\n",
    "            [d, f, h, a]])\n",
    "\n",
    "B = Matrix([[l, m, n, o],\n",
    "            [m, l, q, r],\n",
    "            [n, q, l, t],\n",
    "            [o, r, t, l]])\n",
    "\n",
    "\n",
    "# confirmation that A and B are symmetric\n",
    "print(A - A.transpose())\n",
    "print(B - B.transpose())\n",
    "\n",
    "# ... and constant diagonal\n",
    "for i in range(0, np.size(A, 0)):\n",
    "    print(A[i, i])\n",
    "for i in range(0,np.size(B, 0)):\n",
    "    print(B[i, i])"
   ]
  },
  {
   "cell_type": "code",
   "execution_count": 12,
   "metadata": {},
   "outputs": [
    {
     "data": {
      "text/latex": [
       "$\\displaystyle \\left[\\begin{matrix}0 & 0\\\\0 & 0\\end{matrix}\\right]$"
      ],
      "text/plain": [
       "⎡0  0⎤\n",
       "⎢    ⎥\n",
       "⎣0  0⎦"
      ]
     },
     "execution_count": 12,
     "metadata": {},
     "output_type": "execute_result"
    }
   ],
   "source": [
    "# nice printing in sympy\n",
    "init_printing()\n",
    "\n",
    "# but AB neq (AB)'\n",
    "A@B - (A@B).T\n",
    "\n",
    "# maybe for a submatrix?\n",
    "n = 2\n",
    "A1 = A[0:n, 0:n]\n",
    "B1 = B[0:n, 0:n]\n",
    "\n",
    "A1@B1 - (A1@B1).T"
   ]
  },
  {
   "cell_type": "markdown",
   "metadata": {},
   "source": [
    "\n",
    "---\n",
    "# VIDEO: Frobenius dot-product\n",
    "---\n"
   ]
  },
  {
   "cell_type": "code",
   "execution_count": 13,
   "metadata": {},
   "outputs": [
    {
     "name": "stdout",
     "output_type": "stream",
     "text": [
      "1.2277591071340892\n",
      "1.2277591071340894\n",
      "5.248997730350793\n",
      "5.248997730350793\n"
     ]
    }
   ],
   "source": [
    "# any matrix sizes\n",
    "m = 9\n",
    "n = 4\n",
    "\n",
    "# but the two matrices must be the same size\n",
    "A = np.random.randn(m,n)\n",
    "B = np.random.randn(m,n)\n",
    "\n",
    "# first vectorize, then vector-dot-product\n",
    "Av = np.reshape(A,m*n, order='F') # order='F' reshapes by columns instead of by rows\n",
    "Bv = np.reshape(B,m*n, order='F')\n",
    "frob_dp = np.dot(Av, Bv)\n",
    "\n",
    "# trace method\n",
    "frob_dp2 = np.trace(A.T@B)\n",
    "print(frob_dp2)\n",
    "print(frob_dp)\n",
    "\n",
    "# matrix norm\n",
    "Anorm = np.linalg.norm(A, 'fro')\n",
    "Anorm2 = np.sqrt(np.trace(A.T@A))\n",
    "print(Anorm)\n",
    "print(Anorm2)"
   ]
  },
  {
   "cell_type": "markdown",
   "metadata": {},
   "source": [
    "# VIDEO: Matrix norms"
   ]
  },
  {
   "cell_type": "code",
   "execution_count": 14,
   "metadata": {},
   "outputs": [
    {
     "name": "stdout",
     "output_type": "stream",
     "text": [
      "16.431676725154983 16.431676725154986 16.392007827749776\n"
     ]
    }
   ],
   "source": [
    "# Create a matrix\n",
    "A = np.array([[1, 2, 3], [4, 5, 6], [7, 7, 9]])\n",
    "\n",
    "# optional orthogonal matrix to show that 2-norm is 1\n",
    "Q,R = np.linalg.qr(np.random.randn(5, 5))\n",
    "# A = Q\n",
    "\n",
    "# Frobenius norm\n",
    "normFrob = np.linalg.norm(A, 'fro')\n",
    "\n",
    "# induced 2-norm\n",
    "normInd2 = np.linalg.norm(A, 2)\n",
    "# note: computed as below\n",
    "lamb = np.sqrt(np.max(np.linalg.eig(A.T@A)[0]))\n",
    "\n",
    "# schatten p-norm\n",
    "p = 2\n",
    "s = np.linalg.svd(A)[1] # get singular values\n",
    "normSchat = np.sum(s**p)**(1/p)\n",
    "\n",
    "\n",
    "# % show all norms for comparison\n",
    "print(normFrob, normSchat, normInd2)"
   ]
  }
 ],
 "metadata": {
  "kernelspec": {
   "display_name": "ml_env",
   "language": "python",
   "name": "ml_env"
  },
  "language_info": {
   "codemirror_mode": {
    "name": "ipython",
    "version": 3
   },
   "file_extension": ".py",
   "mimetype": "text/x-python",
   "name": "python",
   "nbconvert_exporter": "python",
   "pygments_lexer": "ipython3",
   "version": "3.6.11"
  }
 },
 "nbformat": 4,
 "nbformat_minor": 2
}
