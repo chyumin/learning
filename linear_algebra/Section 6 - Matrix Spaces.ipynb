{
 "cells": [
  {
   "cell_type": "code",
   "execution_count": 1,
   "metadata": {},
   "outputs": [],
   "source": [
    "import numpy as np\n",
    "import matplotlib.pyplot as plt\n",
    "import math\n",
    "from mpl_toolkits.mplot3d import Axes3D"
   ]
  },
  {
   "cell_type": "markdown",
   "metadata": {},
   "source": [
    "\n",
    "---\n",
    "# VIDEO: Column space of a matrix\n",
    "---\n"
   ]
  },
  {
   "cell_type": "code",
   "execution_count": 3,
   "metadata": {},
   "outputs": [
    {
     "data": {
      "image/png": "[encoded data removed]",
      "text/plain": [
       "<Figure size 432x288 with 1 Axes>"
      ]
     },
     "metadata": {
      "needs_background": "light"
     },
     "output_type": "display_data"
    }
   ],
   "source": [
    "# matrix S\n",
    "S = np.array([[3, 0],\n",
    "              [5, 2],\n",
    "              [1, 2]])\n",
    "\n",
    "# vector v\n",
    "v = np.array([[-3], [1], [5]])\n",
    "# v = np.array([[1], [7], [3]])\n",
    "\n",
    "\n",
    "fig = plt.figure()\n",
    "ax = fig.gca(projection='3d')\n",
    "\n",
    "# draw plane corresponding to the column space\n",
    "xx, yy = np.meshgrid(np.linspace(-5, 5, 10), np.linspace(-5, 5, 10))\n",
    "cp = np.cross(S[:, 0], S[:, 1])\n",
    "z1 = (-cp[0]*xx - cp[1]*yy)/cp[2]\n",
    "ax.plot_surface(xx, yy, z1, alpha=.2)\n",
    "\n",
    "\n",
    "## plot the two vectors from matrix S\n",
    "ax.plot([0, S[0,0]], [0, S[1,0]], [0, S[2, 0]], 'k')\n",
    "ax.plot([0, S[0,1]], [0, S[1,1]], [0, S[2, 1]], 'k')\n",
    "\n",
    "# and the vector v\n",
    "ax.plot([0, v[0]], [0, v[1]], [0, v[2]], 'r')\n",
    "\n",
    "\n",
    "ax.view_init(elev=0, azim=0)\n",
    "plt.show()"
   ]
  }
 ],
 "metadata": {
  "kernelspec": {
   "display_name": "ml_env",
   "language": "python",
   "name": "ml_env"
  },
  "language_info": {
   "codemirror_mode": {
    "name": "ipython",
    "version": 3
   },
   "file_extension": ".py",
   "mimetype": "text/x-python",
   "name": "python",
   "nbconvert_exporter": "python",
   "pygments_lexer": "ipython3",
   "version": "3.6.11"
  }
 },
 "nbformat": 4,
 "nbformat_minor": 2
}
