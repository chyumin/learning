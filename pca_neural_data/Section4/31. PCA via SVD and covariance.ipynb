{
 "cells": [
  {
   "cell_type": "code",
   "execution_count": 1,
   "id": "498a3177",
   "metadata": {},
   "outputs": [],
   "source": [
    "import numpy as np\n",
    "import matplotlib.pyplot as plt"
   ]
  },
  {
   "cell_type": "code",
   "execution_count": 2,
   "id": "3c60e322",
   "metadata": {},
   "outputs": [],
   "source": [
    "# simulation parameters\n",
    "N = 10_000\n",
    "M = 20\n",
    "\n",
    "# time vector (radian units)\n",
    "t = np.linspace(0, 0.6*np.pi, N)\n",
    "\n",
    "# Relationship across channels (imposing covariance)\n",
    "chanrel = np.sin(np.linspace(0, 2*np.pi, M))\n",
    "\n",
    "# Generating data\n",
    "data = np.zeros((M, N))\n",
    "data[:, :] = np.sin(t)\n",
    "\n",
    "data = (data.T * chanrel).T + np.random.randn(M, N)"
   ]
  },
  {
   "cell_type": "code",
   "execution_count": 3,
   "id": "d2bce6eb",
   "metadata": {},
   "outputs": [],
   "source": [
    "# mean-center (over time)\n",
    "data_ave = np.mean(data, axis=1)\n",
    "\n",
    "data_ave = (data.T - data_ave).T"
   ]
  },
  {
   "cell_type": "code",
   "execution_count": 4,
   "id": "65db93e2",
   "metadata": {},
   "outputs": [],
   "source": [
    "# Covariance matrix\n",
    "cov_mat = (data_ave @ data_ave.T) / (N-1)"
   ]
  },
  {
   "cell_type": "code",
   "execution_count": 5,
   "id": "f74769e8",
   "metadata": {},
   "outputs": [],
   "source": [
    "# Eigendecomposition sorted\n",
    "eig_val, eig_vec = np.linalg.eig(cov_mat)\n",
    "sorted_idxs = eig_val.argsort()[::-1]\n",
    "eig_val = eig_val[sorted_idxs]\n",
    "eig_vec = eig_vec[:, sorted_idxs]"
   ]
  },
  {
   "cell_type": "code",
   "execution_count": 6,
   "id": "be9acd49",
   "metadata": {},
   "outputs": [],
   "source": [
    "# Convert eig values to %\n",
    "eig_val = 100*eig_val / sum(eig_val)"
   ]
  },
  {
   "cell_type": "code",
   "execution_count": 7,
   "id": "053c03df",
   "metadata": {},
   "outputs": [],
   "source": [
    "# time series of top component\n",
    "eig_ts = eig_vec[:, 0] @ data"
   ]
  },
  {
   "cell_type": "code",
   "execution_count": null,
   "id": "5173db78",
   "metadata": {},
   "outputs": [],
   "source": []
  }
 ],
 "metadata": {
  "kernelspec": {
   "display_name": "ml_env",
   "language": "python",
   "name": "ml_env"
  },
  "language_info": {
   "codemirror_mode": {
    "name": "ipython",
    "version": 3
   },
   "file_extension": ".py",
   "mimetype": "text/x-python",
   "name": "python",
   "nbconvert_exporter": "python",
   "pygments_lexer": "ipython3",
   "version": "3.7.10"
  }
 },
 "nbformat": 4,
 "nbformat_minor": 5
}
