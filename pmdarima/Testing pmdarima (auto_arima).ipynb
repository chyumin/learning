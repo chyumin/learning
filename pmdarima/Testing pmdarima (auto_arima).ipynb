{
 "cells": [
  {
   "cell_type": "markdown",
   "metadata": {},
   "source": [
    "### pmdarima\n",
    "Notebook that I used to learn pmdarima, in order to create models with auto arima\n",
    "\n",
    "https://github.com/alkaline-ml/pmdarima/  \n",
    "http://alkaline-ml.com/pmdarima/"
   ]
  },
  {
   "cell_type": "code",
   "execution_count": 1,
   "metadata": {},
   "outputs": [],
   "source": [
    "import numpy as np\n",
    "import pmdarima as pm"
   ]
  },
  {
   "cell_type": "code",
   "execution_count": 2,
   "metadata": {},
   "outputs": [],
   "source": [
    "from pmdarima.datasets import load_wineind\n",
    "\n",
    "# this is a dataset from R\n",
    "wineind = load_wineind().astype(np.float64)"
   ]
  },
  {
   "cell_type": "markdown",
   "metadata": {},
   "source": [
    "### Fitting an ARIMA\n",
    "Fitting ARIMA without auto_arima. This is not needed if parameters is already known"
   ]
  },
  {
   "cell_type": "code",
   "execution_count": 3,
   "metadata": {},
   "outputs": [],
   "source": [
    "from pmdarima.arima import ARIMA\n",
    "\n",
    "fit = ARIMA(order=(1, 1, 1), seasonal_order=(0, 1, 1, 12)).fit(y=wineind)"
   ]
  },
  {
   "cell_type": "code",
   "execution_count": 4,
   "metadata": {},
   "outputs": [
    {
     "data": {
      "text/html": [
       "<table class=\"simpletable\">\n",
       "<caption>SARIMAX Results</caption>\n",
       "<tr>\n",
       "  <th>Dep. Variable:</th>                  <td>y</td>               <th>  No. Observations:  </th>    <td>176</td>   \n",
       "</tr>\n",
       "<tr>\n",
       "  <th>Model:</th>           <td>SARIMAX(1, 1, 1)x(0, 1, 1, 12)</td> <th>  Log Likelihood     </th> <td>-1528.380</td>\n",
       "</tr>\n",
       "<tr>\n",
       "  <th>Date:</th>                   <td>Sat, 20 Feb 2021</td>        <th>  AIC                </th> <td>3066.760</td> \n",
       "</tr>\n",
       "<tr>\n",
       "  <th>Time:</th>                       <td>21:21:38</td>            <th>  BIC                </th> <td>3082.229</td> \n",
       "</tr>\n",
       "<tr>\n",
       "  <th>Sample:</th>                         <td>0</td>               <th>  HQIC               </th> <td>3073.041</td> \n",
       "</tr>\n",
       "<tr>\n",
       "  <th></th>                             <td> - 176</td>             <th>                     </th>     <td> </td>    \n",
       "</tr>\n",
       "<tr>\n",
       "  <th>Covariance Type:</th>               <td>opg</td>              <th>                     </th>     <td> </td>    \n",
       "</tr>\n",
       "</table>\n",
       "<table class=\"simpletable\">\n",
       "<tr>\n",
       "      <td></td>         <th>coef</th>     <th>std err</th>      <th>z</th>      <th>P>|z|</th>  <th>[0.025</th>    <th>0.975]</th>  \n",
       "</tr>\n",
       "<tr>\n",
       "  <th>intercept</th> <td>  -47.4870</td> <td>   41.731</td> <td>   -1.138</td> <td> 0.255</td> <td> -129.278</td> <td>   34.304</td>\n",
       "</tr>\n",
       "<tr>\n",
       "  <th>ar.L1</th>     <td>    0.1405</td> <td>    0.079</td> <td>    1.778</td> <td> 0.075</td> <td>   -0.014</td> <td>    0.295</td>\n",
       "</tr>\n",
       "<tr>\n",
       "  <th>ma.L1</th>     <td>   -0.7359</td> <td>    0.082</td> <td>   -8.940</td> <td> 0.000</td> <td>   -0.897</td> <td>   -0.575</td>\n",
       "</tr>\n",
       "<tr>\n",
       "  <th>ma.S.L12</th>  <td>   -0.3916</td> <td>    0.058</td> <td>   -6.710</td> <td> 0.000</td> <td>   -0.506</td> <td>   -0.277</td>\n",
       "</tr>\n",
       "<tr>\n",
       "  <th>sigma2</th>    <td> 8.405e+06</td> <td> 8.52e+05</td> <td>    9.870</td> <td> 0.000</td> <td> 6.74e+06</td> <td> 1.01e+07</td>\n",
       "</tr>\n",
       "</table>\n",
       "<table class=\"simpletable\">\n",
       "<tr>\n",
       "  <th>Ljung-Box (L1) (Q):</th>     <td>1.84</td> <th>  Jarque-Bera (JB):  </th> <td>19.26</td>\n",
       "</tr>\n",
       "<tr>\n",
       "  <th>Prob(Q):</th>                <td>0.18</td> <th>  Prob(JB):          </th> <td>0.00</td> \n",
       "</tr>\n",
       "<tr>\n",
       "  <th>Heteroskedasticity (H):</th> <td>1.20</td> <th>  Skew:              </th> <td>-0.56</td>\n",
       "</tr>\n",
       "<tr>\n",
       "  <th>Prob(H) (two-sided):</th>    <td>0.51</td> <th>  Kurtosis:          </th> <td>4.26</td> \n",
       "</tr>\n",
       "</table><br/><br/>Warnings:<br/>[1] Covariance matrix calculated using the outer product of gradients (complex-step)."
      ],
      "text/plain": [
       "<class 'statsmodels.iolib.summary.Summary'>\n",
       "\"\"\"\n",
       "                                     SARIMAX Results                                      \n",
       "==========================================================================================\n",
       "Dep. Variable:                                  y   No. Observations:                  176\n",
       "Model:             SARIMAX(1, 1, 1)x(0, 1, 1, 12)   Log Likelihood               -1528.380\n",
       "Date:                            Sat, 20 Feb 2021   AIC                           3066.760\n",
       "Time:                                    21:21:38   BIC                           3082.229\n",
       "Sample:                                         0   HQIC                          3073.041\n",
       "                                            - 176                                         \n",
       "Covariance Type:                              opg                                         \n",
       "==============================================================================\n",
       "                 coef    std err          z      P>|z|      [0.025      0.975]\n",
       "------------------------------------------------------------------------------\n",
       "intercept    -47.4870     41.731     -1.138      0.255    -129.278      34.304\n",
       "ar.L1          0.1405      0.079      1.778      0.075      -0.014       0.295\n",
       "ma.L1         -0.7359      0.082     -8.940      0.000      -0.897      -0.575\n",
       "ma.S.L12      -0.3916      0.058     -6.710      0.000      -0.506      -0.277\n",
       "sigma2      8.405e+06   8.52e+05      9.870      0.000    6.74e+06    1.01e+07\n",
       "===================================================================================\n",
       "Ljung-Box (L1) (Q):                   1.84   Jarque-Bera (JB):                19.26\n",
       "Prob(Q):                              0.18   Prob(JB):                         0.00\n",
       "Heteroskedasticity (H):               1.20   Skew:                            -0.56\n",
       "Prob(H) (two-sided):                  0.51   Kurtosis:                         4.26\n",
       "===================================================================================\n",
       "\n",
       "Warnings:\n",
       "[1] Covariance matrix calculated using the outer product of gradients (complex-step).\n",
       "\"\"\""
      ]
     },
     "execution_count": 4,
     "metadata": {},
     "output_type": "execute_result"
    }
   ],
   "source": [
    "fit.summary()"
   ]
  },
  {
   "cell_type": "markdown",
   "metadata": {},
   "source": [
    "### Now using auto_arima"
   ]
  },
  {
   "cell_type": "code",
   "execution_count": 5,
   "metadata": {},
   "outputs": [
    {
     "name": "stdout",
     "output_type": "stream",
     "text": [
      "Performing stepwise search to minimize aic\n",
      " ARIMA(1,1,1)(0,1,1)[12]             : AIC=3066.492, Time=0.98 sec\n",
      " ARIMA(0,1,0)(0,1,0)[12]             : AIC=3131.408, Time=0.06 sec\n",
      " ARIMA(1,1,0)(1,1,0)[12]             : AIC=3097.884, Time=0.35 sec\n",
      " ARIMA(0,1,1)(0,1,1)[12]             : AIC=3066.329, Time=0.44 sec\n",
      " ARIMA(0,1,1)(0,1,0)[12]             : AIC=3089.456, Time=0.13 sec\n",
      " ARIMA(0,1,1)(1,1,1)[12]             : AIC=3067.457, Time=0.66 sec\n",
      " ARIMA(0,1,1)(0,1,2)[12]             : AIC=3067.481, Time=1.39 sec\n",
      " ARIMA(0,1,1)(1,1,0)[12]             : AIC=3071.631, Time=0.42 sec\n",
      " ARIMA(0,1,1)(1,1,2)[12]             : AIC=inf, Time=6.56 sec\n",
      " ARIMA(0,1,0)(0,1,1)[12]             : AIC=3117.921, Time=0.68 sec\n",
      " ARIMA(0,1,2)(0,1,1)[12]             : AIC=3065.533, Time=0.48 sec\n",
      " ARIMA(0,1,2)(0,1,0)[12]             : AIC=3087.883, Time=0.15 sec\n",
      " ARIMA(0,1,2)(1,1,1)[12]             : AIC=3066.239, Time=0.93 sec\n",
      " ARIMA(0,1,2)(0,1,2)[12]             : AIC=3066.373, Time=1.71 sec\n",
      " ARIMA(0,1,2)(1,1,0)[12]             : AIC=3070.728, Time=0.49 sec\n",
      " ARIMA(0,1,2)(1,1,2)[12]             : AIC=inf, Time=5.01 sec\n",
      " ARIMA(1,1,2)(0,1,1)[12]             : AIC=3066.424, Time=1.27 sec\n",
      " ARIMA(0,1,3)(0,1,1)[12]             : AIC=3066.351, Time=1.26 sec\n",
      " ARIMA(1,1,3)(0,1,1)[12]             : AIC=3068.295, Time=2.01 sec\n",
      " ARIMA(0,1,2)(0,1,1)[12] intercept   : AIC=3066.787, Time=0.64 sec\n",
      "\n",
      "Best model:  ARIMA(0,1,2)(0,1,1)[12]          \n",
      "Total fit time: 25.660 seconds\n"
     ]
    },
    {
     "data": {
      "text/html": [
       "<table class=\"simpletable\">\n",
       "<caption>SARIMAX Results</caption>\n",
       "<tr>\n",
       "  <th>Dep. Variable:</th>                   <td>y</td>                <th>  No. Observations:  </th>    <td>176</td>   \n",
       "</tr>\n",
       "<tr>\n",
       "  <th>Model:</th>           <td>SARIMAX(0, 1, 2)x(0, 1, [1], 12)</td> <th>  Log Likelihood     </th> <td>-1528.766</td>\n",
       "</tr>\n",
       "<tr>\n",
       "  <th>Date:</th>                    <td>Sat, 20 Feb 2021</td>         <th>  AIC                </th> <td>3065.533</td> \n",
       "</tr>\n",
       "<tr>\n",
       "  <th>Time:</th>                        <td>21:22:04</td>             <th>  BIC                </th> <td>3077.908</td> \n",
       "</tr>\n",
       "<tr>\n",
       "  <th>Sample:</th>                          <td>0</td>                <th>  HQIC               </th> <td>3070.557</td> \n",
       "</tr>\n",
       "<tr>\n",
       "  <th></th>                              <td> - 176</td>              <th>                     </th>     <td> </td>    \n",
       "</tr>\n",
       "<tr>\n",
       "  <th>Covariance Type:</th>                <td>opg</td>               <th>                     </th>     <td> </td>    \n",
       "</tr>\n",
       "</table>\n",
       "<table class=\"simpletable\">\n",
       "<tr>\n",
       "      <td></td>        <th>coef</th>     <th>std err</th>      <th>z</th>      <th>P>|z|</th>  <th>[0.025</th>    <th>0.975]</th>  \n",
       "</tr>\n",
       "<tr>\n",
       "  <th>ma.L1</th>    <td>   -0.5756</td> <td>    0.041</td> <td>  -13.952</td> <td> 0.000</td> <td>   -0.656</td> <td>   -0.495</td>\n",
       "</tr>\n",
       "<tr>\n",
       "  <th>ma.L2</th>    <td>   -0.1065</td> <td>    0.048</td> <td>   -2.224</td> <td> 0.026</td> <td>   -0.200</td> <td>   -0.013</td>\n",
       "</tr>\n",
       "<tr>\n",
       "  <th>ma.S.L12</th> <td>   -0.3848</td> <td>    0.054</td> <td>   -7.156</td> <td> 0.000</td> <td>   -0.490</td> <td>   -0.279</td>\n",
       "</tr>\n",
       "<tr>\n",
       "  <th>sigma2</th>   <td> 7.866e+06</td> <td> 7.01e+05</td> <td>   11.228</td> <td> 0.000</td> <td> 6.49e+06</td> <td> 9.24e+06</td>\n",
       "</tr>\n",
       "</table>\n",
       "<table class=\"simpletable\">\n",
       "<tr>\n",
       "  <th>Ljung-Box (L1) (Q):</th>     <td>2.84</td> <th>  Jarque-Bera (JB):  </th> <td>18.05</td>\n",
       "</tr>\n",
       "<tr>\n",
       "  <th>Prob(Q):</th>                <td>0.09</td> <th>  Prob(JB):          </th> <td>0.00</td> \n",
       "</tr>\n",
       "<tr>\n",
       "  <th>Heteroskedasticity (H):</th> <td>1.17</td> <th>  Skew:              </th> <td>-0.55</td>\n",
       "</tr>\n",
       "<tr>\n",
       "  <th>Prob(H) (two-sided):</th>    <td>0.56</td> <th>  Kurtosis:          </th> <td>4.21</td> \n",
       "</tr>\n",
       "</table><br/><br/>Warnings:<br/>[1] Covariance matrix calculated using the outer product of gradients (complex-step)."
      ],
      "text/plain": [
       "<class 'statsmodels.iolib.summary.Summary'>\n",
       "\"\"\"\n",
       "                                      SARIMAX Results                                       \n",
       "============================================================================================\n",
       "Dep. Variable:                                    y   No. Observations:                  176\n",
       "Model:             SARIMAX(0, 1, 2)x(0, 1, [1], 12)   Log Likelihood               -1528.766\n",
       "Date:                              Sat, 20 Feb 2021   AIC                           3065.533\n",
       "Time:                                      21:22:04   BIC                           3077.908\n",
       "Sample:                                           0   HQIC                          3070.557\n",
       "                                              - 176                                         \n",
       "Covariance Type:                                opg                                         \n",
       "==============================================================================\n",
       "                 coef    std err          z      P>|z|      [0.025      0.975]\n",
       "------------------------------------------------------------------------------\n",
       "ma.L1         -0.5756      0.041    -13.952      0.000      -0.656      -0.495\n",
       "ma.L2         -0.1065      0.048     -2.224      0.026      -0.200      -0.013\n",
       "ma.S.L12      -0.3848      0.054     -7.156      0.000      -0.490      -0.279\n",
       "sigma2      7.866e+06   7.01e+05     11.228      0.000    6.49e+06    9.24e+06\n",
       "===================================================================================\n",
       "Ljung-Box (L1) (Q):                   2.84   Jarque-Bera (JB):                18.05\n",
       "Prob(Q):                              0.09   Prob(JB):                         0.00\n",
       "Heteroskedasticity (H):               1.17   Skew:                            -0.55\n",
       "Prob(H) (two-sided):                  0.56   Kurtosis:                         4.21\n",
       "===================================================================================\n",
       "\n",
       "Warnings:\n",
       "[1] Covariance matrix calculated using the outer product of gradients (complex-step).\n",
       "\"\"\""
      ]
     },
     "execution_count": 5,
     "metadata": {},
     "output_type": "execute_result"
    }
   ],
   "source": [
    "stepwise_fit = pm.auto_arima(wineind, start_p=1, start_q=1, max_p=3, max_q=3, m=12,\n",
    "                             start_P=0, seasonal=True, d=1, D=1, trace=True,\n",
    "                             error_action='ignore',  # don't want to know if an order does not work\n",
    "                             suppress_warnings=True,  # don't want convergence warnings\n",
    "                             stepwise=True)  # set to stepwise\n",
    "\n",
    "stepwise_fit.summary()"
   ]
  },
  {
   "cell_type": "markdown",
   "metadata": {},
   "source": [
    "### auto_arima without seasonality"
   ]
  },
  {
   "cell_type": "code",
   "execution_count": 6,
   "metadata": {},
   "outputs": [
    {
     "name": "stdout",
     "output_type": "stream",
     "text": [
      "Performing stepwise search to minimize aic\n",
      " ARIMA(0,1,0)(0,0,0)[0] intercept   : AIC=3587.776, Time=0.02 sec\n",
      " ARIMA(1,1,0)(0,0,0)[0] intercept   : AIC=3573.940, Time=0.05 sec\n",
      " ARIMA(0,1,1)(0,0,0)[0] intercept   : AIC=3509.903, Time=0.19 sec\n",
      " ARIMA(0,1,0)(0,0,0)[0]             : AIC=3585.787, Time=0.01 sec\n",
      " ARIMA(1,1,1)(0,0,0)[0] intercept   : AIC=3508.854, Time=0.18 sec\n",
      " ARIMA(2,1,1)(0,0,0)[0] intercept   : AIC=3500.610, Time=0.14 sec\n",
      " ARIMA(2,1,0)(0,0,0)[0] intercept   : AIC=3540.400, Time=0.03 sec\n",
      " ARIMA(3,1,1)(0,0,0)[0] intercept   : AIC=3502.598, Time=0.21 sec\n",
      " ARIMA(2,1,2)(0,0,0)[0] intercept   : AIC=3503.442, Time=0.23 sec\n",
      " ARIMA(1,1,2)(0,0,0)[0] intercept   : AIC=3505.621, Time=0.31 sec\n",
      " ARIMA(3,1,0)(0,0,0)[0] intercept   : AIC=3516.118, Time=0.06 sec\n",
      " ARIMA(3,1,2)(0,0,0)[0] intercept   : AIC=3504.888, Time=0.13 sec\n",
      " ARIMA(2,1,1)(0,0,0)[0]             : AIC=3500.251, Time=0.08 sec\n",
      " ARIMA(1,1,1)(0,0,0)[0]             : AIC=3509.015, Time=0.06 sec\n",
      " ARIMA(2,1,0)(0,0,0)[0]             : AIC=3538.500, Time=0.03 sec\n",
      " ARIMA(3,1,1)(0,0,0)[0]             : AIC=3502.238, Time=0.11 sec\n",
      " ARIMA(2,1,2)(0,0,0)[0]             : AIC=3503.042, Time=0.12 sec\n",
      " ARIMA(1,1,0)(0,0,0)[0]             : AIC=3571.973, Time=0.02 sec\n",
      " ARIMA(1,1,2)(0,0,0)[0]             : AIC=3508.438, Time=0.08 sec\n",
      " ARIMA(3,1,0)(0,0,0)[0]             : AIC=3514.328, Time=0.05 sec\n",
      " ARIMA(3,1,2)(0,0,0)[0]             : AIC=3504.226, Time=0.21 sec\n",
      "\n",
      "Best model:  ARIMA(2,1,1)(0,0,0)[0]          \n",
      "Total fit time: 2.328 seconds\n"
     ]
    },
    {
     "data": {
      "text/html": [
       "<table class=\"simpletable\">\n",
       "<caption>SARIMAX Results</caption>\n",
       "<tr>\n",
       "  <th>Dep. Variable:</th>           <td>y</td>        <th>  No. Observations:  </th>    <td>176</td>   \n",
       "</tr>\n",
       "<tr>\n",
       "  <th>Model:</th>           <td>SARIMAX(2, 1, 1)</td> <th>  Log Likelihood     </th> <td>-1746.125</td>\n",
       "</tr>\n",
       "<tr>\n",
       "  <th>Date:</th>            <td>Sat, 20 Feb 2021</td> <th>  AIC                </th> <td>3500.251</td> \n",
       "</tr>\n",
       "<tr>\n",
       "  <th>Time:</th>                <td>21:22:07</td>     <th>  BIC                </th> <td>3512.910</td> \n",
       "</tr>\n",
       "<tr>\n",
       "  <th>Sample:</th>                  <td>0</td>        <th>  HQIC               </th> <td>3505.386</td> \n",
       "</tr>\n",
       "<tr>\n",
       "  <th></th>                      <td> - 176</td>      <th>                     </th>     <td> </td>    \n",
       "</tr>\n",
       "<tr>\n",
       "  <th>Covariance Type:</th>        <td>opg</td>       <th>                     </th>     <td> </td>    \n",
       "</tr>\n",
       "</table>\n",
       "<table class=\"simpletable\">\n",
       "<tr>\n",
       "     <td></td>       <th>coef</th>     <th>std err</th>      <th>z</th>      <th>P>|z|</th>  <th>[0.025</th>    <th>0.975]</th>  \n",
       "</tr>\n",
       "<tr>\n",
       "  <th>ar.L1</th>  <td>    0.1420</td> <td>    0.109</td> <td>    1.307</td> <td> 0.191</td> <td>   -0.071</td> <td>    0.355</td>\n",
       "</tr>\n",
       "<tr>\n",
       "  <th>ar.L2</th>  <td>   -0.2572</td> <td>    0.125</td> <td>   -2.063</td> <td> 0.039</td> <td>   -0.502</td> <td>   -0.013</td>\n",
       "</tr>\n",
       "<tr>\n",
       "  <th>ma.L1</th>  <td>   -0.9074</td> <td>    0.052</td> <td>  -17.526</td> <td> 0.000</td> <td>   -1.009</td> <td>   -0.806</td>\n",
       "</tr>\n",
       "<tr>\n",
       "  <th>sigma2</th> <td> 2.912e+07</td> <td> 1.19e-09</td> <td> 2.44e+16</td> <td> 0.000</td> <td> 2.91e+07</td> <td> 2.91e+07</td>\n",
       "</tr>\n",
       "</table>\n",
       "<table class=\"simpletable\">\n",
       "<tr>\n",
       "  <th>Ljung-Box (L1) (Q):</th>     <td>0.01</td> <th>  Jarque-Bera (JB):  </th> <td>0.48</td> \n",
       "</tr>\n",
       "<tr>\n",
       "  <th>Prob(Q):</th>                <td>0.92</td> <th>  Prob(JB):          </th> <td>0.79</td> \n",
       "</tr>\n",
       "<tr>\n",
       "  <th>Heteroskedasticity (H):</th> <td>1.37</td> <th>  Skew:              </th> <td>-0.12</td>\n",
       "</tr>\n",
       "<tr>\n",
       "  <th>Prob(H) (two-sided):</th>    <td>0.23</td> <th>  Kurtosis:          </th> <td>2.92</td> \n",
       "</tr>\n",
       "</table><br/><br/>Warnings:<br/>[1] Covariance matrix calculated using the outer product of gradients (complex-step).<br/>[2] Covariance matrix is singular or near-singular, with condition number 1.35e+32. Standard errors may be unstable."
      ],
      "text/plain": [
       "<class 'statsmodels.iolib.summary.Summary'>\n",
       "\"\"\"\n",
       "                               SARIMAX Results                                \n",
       "==============================================================================\n",
       "Dep. Variable:                      y   No. Observations:                  176\n",
       "Model:               SARIMAX(2, 1, 1)   Log Likelihood               -1746.125\n",
       "Date:                Sat, 20 Feb 2021   AIC                           3500.251\n",
       "Time:                        21:22:07   BIC                           3512.910\n",
       "Sample:                             0   HQIC                          3505.386\n",
       "                                - 176                                         \n",
       "Covariance Type:                  opg                                         \n",
       "==============================================================================\n",
       "                 coef    std err          z      P>|z|      [0.025      0.975]\n",
       "------------------------------------------------------------------------------\n",
       "ar.L1          0.1420      0.109      1.307      0.191      -0.071       0.355\n",
       "ar.L2         -0.2572      0.125     -2.063      0.039      -0.502      -0.013\n",
       "ma.L1         -0.9074      0.052    -17.526      0.000      -1.009      -0.806\n",
       "sigma2      2.912e+07   1.19e-09   2.44e+16      0.000    2.91e+07    2.91e+07\n",
       "===================================================================================\n",
       "Ljung-Box (L1) (Q):                   0.01   Jarque-Bera (JB):                 0.48\n",
       "Prob(Q):                              0.92   Prob(JB):                         0.79\n",
       "Heteroskedasticity (H):               1.37   Skew:                            -0.12\n",
       "Prob(H) (two-sided):                  0.23   Kurtosis:                         2.92\n",
       "===================================================================================\n",
       "\n",
       "Warnings:\n",
       "[1] Covariance matrix calculated using the outer product of gradients (complex-step).\n",
       "[2] Covariance matrix is singular or near-singular, with condition number 1.35e+32. Standard errors may be unstable.\n",
       "\"\"\""
      ]
     },
     "execution_count": 6,
     "metadata": {},
     "output_type": "execute_result"
    }
   ],
   "source": [
    "no_seasonality_fit = pm.auto_arima(wineind, start_p=0, start_q=0, max_p=3, max_q=3,\n",
    "                             seasonal=False, start_d=0, max_d=3, trace=True,\n",
    "                             error_action='ignore',  # don't want to know if an order does not work\n",
    "                             suppress_warnings=True,  # don't want convergence warnings\n",
    "                             stepwise=True)  # set to stepwise\n",
    "\n",
    "no_seasonality_fit.summary()"
   ]
  },
  {
   "cell_type": "code",
   "execution_count": 7,
   "metadata": {},
   "outputs": [
    {
     "data": {
      "text/plain": [
       "array([24617.39764572, 26417.98870268, 26349.203906  , 25876.29760317,\n",
       "       25826.84212846])"
      ]
     },
     "execution_count": 7,
     "metadata": {},
     "output_type": "execute_result"
    }
   ],
   "source": [
    "no_seasonality_fit.predict(5)"
   ]
  },
  {
   "cell_type": "code",
   "execution_count": 8,
   "metadata": {},
   "outputs": [
    {
     "data": {
      "text/plain": [
       "array([21833.71615197, 26239.84853716, 30813.8473837 , 35970.36202751,\n",
       "       13683.27930429])"
      ]
     },
     "execution_count": 8,
     "metadata": {},
     "output_type": "execute_result"
    }
   ],
   "source": [
    "stepwise_fit.predict(5)"
   ]
  },
  {
   "cell_type": "code",
   "execution_count": 9,
   "metadata": {},
   "outputs": [
    {
     "data": {
      "text/plain": [
       "array([21664.18098989, 25794.10243987, 30348.85616371, 35435.63326266,\n",
       "       13079.33979844])"
      ]
     },
     "execution_count": 9,
     "metadata": {},
     "output_type": "execute_result"
    }
   ],
   "source": [
    "fit.predict(5)"
   ]
  },
  {
   "cell_type": "markdown",
   "metadata": {},
   "source": [
    "### Another simpler approach"
   ]
  },
  {
   "cell_type": "code",
   "execution_count": 10,
   "metadata": {},
   "outputs": [],
   "source": [
    "from pmdarima.model_selection import train_test_split\n",
    "import matplotlib.pyplot as plt\n",
    "import numpy as np\n",
    "\n",
    "train, test = train_test_split(wineind, train_size=150)"
   ]
  },
  {
   "cell_type": "code",
   "execution_count": 11,
   "metadata": {},
   "outputs": [],
   "source": [
    "model = pm.auto_arima(train, seasonal=True, m=12)"
   ]
  },
  {
   "cell_type": "code",
   "execution_count": 12,
   "metadata": {},
   "outputs": [
    {
     "data": {
      "image/png": "[encoded data removed]",
      "text/plain": [
       "<Figure size 432x288 with 1 Axes>"
      ]
     },
     "metadata": {
      "needs_background": "light"
     },
     "output_type": "display_data"
    }
   ],
   "source": [
    "forecasts = model.predict(test.shape[0])  # predict N steps into the future\n",
    "\n",
    "# Visualize the forecasts (blue=train, green=forecasts)\n",
    "x = np.arange(wineind.shape[0])\n",
    "plt.plot(x[:150], train, c='blue')\n",
    "plt.plot(x[150:], forecasts, c='green')\n",
    "plt.show()"
   ]
  }
 ],
 "metadata": {
  "kernelspec": {
   "display_name": "ml_env",
   "language": "python",
   "name": "ml_env"
  },
  "language_info": {
   "codemirror_mode": {
    "name": "ipython",
    "version": 3
   },
   "file_extension": ".py",
   "mimetype": "text/x-python",
   "name": "python",
   "nbconvert_exporter": "python",
   "pygments_lexer": "ipython3",
   "version": "3.6.11"
  }
 },
 "nbformat": 4,
 "nbformat_minor": 4
}
